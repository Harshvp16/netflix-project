{
 "cells": [
  {
   "cell_type": "code",
   "execution_count": 88,
   "id": "0e477273",
   "metadata": {},
   "outputs": [],
   "source": [
    "import pandas as pd\n",
    "import numpy as np\n",
    "import seaborn as sns\n",
    "import matplotlib.pyplot as plt\n",
    "from tqdm import tqdm\n",
    "from dotenv import dotenv_values\n",
    "from sqlalchemy import create_engine\n",
    "import sklearn\n",
    "from sklearn.neighbors import NearestNeighbors\n",
    "from sklearn.preprocessing import StandardScaler\n",
    "from sklearn.model_selection import train_test_split\n",
    "from sklearn.neighbors import KNeighborsClassifier\n",
    "from sklearn.metrics import pairwise\n",
    "from sklearn.metrics import accuracy_score\n",
    "import statsmodels.formula.api as sm\n",
    "from scipy.sparse import csr_matrix\n",
    "import os\n",
    "import streamlit as sl\n",
    "import pickle"
   ]
  },
  {
   "cell_type": "code",
   "execution_count": 2,
   "id": "19d51ed1",
   "metadata": {
    "scrolled": false
   },
   "outputs": [
    {
     "name": "stdout",
     "output_type": "stream",
     "text": [
      "<class 'pandas.core.frame.DataFrame'>\n",
      "RangeIndex: 17770 entries, 0 to 17769\n",
      "Data columns (total 3 columns):\n",
      " #   Column   Non-Null Count  Dtype \n",
      "---  ------   --------------  ----- \n",
      " 0   movieid  17770 non-null  int64 \n",
      " 1   year     17770 non-null  int64 \n",
      " 2   title    17770 non-null  object\n",
      "dtypes: int64(2), object(1)\n",
      "memory usage: 416.6+ KB\n"
     ]
    }
   ],
   "source": [
    "movies = pd.read_csv(\"../data/movie_sorted.csv\")\n",
    "movies.info()"
   ]
  },
  {
   "cell_type": "code",
   "execution_count": 3,
   "id": "91653c5d",
   "metadata": {},
   "outputs": [
    {
     "data": {
      "text/html": [
       "<div>\n",
       "<style scoped>\n",
       "    .dataframe tbody tr th:only-of-type {\n",
       "        vertical-align: middle;\n",
       "    }\n",
       "\n",
       "    .dataframe tbody tr th {\n",
       "        vertical-align: top;\n",
       "    }\n",
       "\n",
       "    .dataframe thead th {\n",
       "        text-align: right;\n",
       "    }\n",
       "</style>\n",
       "<table border=\"1\" class=\"dataframe\">\n",
       "  <thead>\n",
       "    <tr style=\"text-align: right;\">\n",
       "      <th></th>\n",
       "      <th>customerid</th>\n",
       "      <th>rating</th>\n",
       "      <th>movieid</th>\n",
       "      <th>title</th>\n",
       "    </tr>\n",
       "  </thead>\n",
       "  <tbody>\n",
       "    <tr>\n",
       "      <th>0</th>\n",
       "      <td>332466</td>\n",
       "      <td>2.0</td>\n",
       "      <td>550</td>\n",
       "      <td>First Knight</td>\n",
       "    </tr>\n",
       "    <tr>\n",
       "      <th>1</th>\n",
       "      <td>815418</td>\n",
       "      <td>2.0</td>\n",
       "      <td>550</td>\n",
       "      <td>First Knight</td>\n",
       "    </tr>\n",
       "    <tr>\n",
       "      <th>2</th>\n",
       "      <td>2568360</td>\n",
       "      <td>1.0</td>\n",
       "      <td>550</td>\n",
       "      <td>First Knight</td>\n",
       "    </tr>\n",
       "    <tr>\n",
       "      <th>3</th>\n",
       "      <td>2387526</td>\n",
       "      <td>4.0</td>\n",
       "      <td>550</td>\n",
       "      <td>First Knight</td>\n",
       "    </tr>\n",
       "    <tr>\n",
       "      <th>4</th>\n",
       "      <td>554171</td>\n",
       "      <td>4.0</td>\n",
       "      <td>550</td>\n",
       "      <td>First Knight</td>\n",
       "    </tr>\n",
       "  </tbody>\n",
       "</table>\n",
       "</div>"
      ],
      "text/plain": [
       "   customerid  rating  movieid         title\n",
       "0      332466     2.0      550  First Knight\n",
       "1      815418     2.0      550  First Knight\n",
       "2     2568360     1.0      550  First Knight\n",
       "3     2387526     4.0      550  First Knight\n",
       "4      554171     4.0      550  First Knight"
      ]
     },
     "execution_count": 3,
     "metadata": {},
     "output_type": "execute_result"
    }
   ],
   "source": [
    "ratings = pd.read_csv(\"../../thymestamps-working-folder/data/selected-ratings.csv\")\n",
    "ratings.head()"
   ]
  },
  {
   "cell_type": "code",
   "execution_count": 4,
   "id": "ee4c3647",
   "metadata": {},
   "outputs": [
    {
     "name": "stdout",
     "output_type": "stream",
     "text": [
      "<class 'pandas.core.frame.DataFrame'>\n",
      "RangeIndex: 16791531 entries, 0 to 16791530\n",
      "Data columns (total 4 columns):\n",
      " #   Column      Dtype  \n",
      "---  ------      -----  \n",
      " 0   customerid  int64  \n",
      " 1   rating      float64\n",
      " 2   movieid     int64  \n",
      " 3   title       object \n",
      "dtypes: float64(1), int64(2), object(1)\n",
      "memory usage: 512.4+ MB\n"
     ]
    }
   ],
   "source": [
    "ratings.info()"
   ]
  },
  {
   "cell_type": "code",
   "execution_count": 5,
   "id": "57124704",
   "metadata": {},
   "outputs": [
    {
     "data": {
      "text/plain": [
       "11283    12531\n",
       "4306     12499\n",
       "1905     12469\n",
       "14691    12393\n",
       "14410    12358\n",
       "         ...  \n",
       "9016       223\n",
       "5657       222\n",
       "14021      211\n",
       "761        206\n",
       "11819      193\n",
       "Name: movieid, Length: 5264, dtype: int64"
      ]
     },
     "execution_count": 5,
     "metadata": {},
     "output_type": "execute_result"
    }
   ],
   "source": [
    "ratings[\"movieid\"].value_counts()"
   ]
  },
  {
   "cell_type": "code",
   "execution_count": 6,
   "id": "407c639d",
   "metadata": {},
   "outputs": [
    {
     "data": {
      "text/plain": [
       "(13100, 5264, 17769)"
      ]
     },
     "execution_count": 6,
     "metadata": {},
     "output_type": "execute_result"
    }
   ],
   "source": [
    "ratings['customerid'].nunique(), ratings['movieid'].nunique(), ratings['movieid'].max()"
   ]
  },
  {
   "cell_type": "code",
   "execution_count": 51,
   "id": "ce890746",
   "metadata": {},
   "outputs": [],
   "source": [
    "user = csr_matrix((ratings['rating'], (ratings['customerid'], ratings['movieid'])))"
   ]
  },
  {
   "cell_type": "markdown",
   "id": "a24a2e3e",
   "metadata": {},
   "source": [
    "#### like pivot_table but much more memory efficient"
   ]
  },
  {
   "cell_type": "code",
   "execution_count": 35,
   "id": "94188ac8",
   "metadata": {},
   "outputs": [
    {
     "data": {
      "text/plain": [
       "(2649286, 17770)"
      ]
     },
     "execution_count": 35,
     "metadata": {},
     "output_type": "execute_result"
    }
   ],
   "source": [
    "user.shape"
   ]
  },
  {
   "cell_type": "code",
   "execution_count": 36,
   "id": "9ecb0ec4",
   "metadata": {},
   "outputs": [
    {
     "data": {
      "text/plain": [
       "matrix([[0., 0., 0., ..., 0., 0., 0.]])"
      ]
     },
     "execution_count": 36,
     "metadata": {},
     "output_type": "execute_result"
    }
   ],
   "source": [
    "# customerid vector\n",
    "user[1,:].todense()"
   ]
  },
  {
   "cell_type": "code",
   "execution_count": 37,
   "id": "8e80e85a",
   "metadata": {},
   "outputs": [
    {
     "data": {
      "text/plain": [
       "(2649286, 1)"
      ]
     },
     "execution_count": 37,
     "metadata": {},
     "output_type": "execute_result"
    }
   ],
   "source": [
    "# movieid vector\n",
    "user[:,1].todense().shape"
   ]
  },
  {
   "cell_type": "code",
   "execution_count": 75,
   "id": "34374d37",
   "metadata": {},
   "outputs": [],
   "source": [
    "# collect the movie ids for later\n",
    "\n",
    "# for calculating recommendations\n",
    "liked_items = [12748,4979, 12785, 12918,13031,13313,16265,14240,14214]\n",
    "# liked = [11283,4306,1905,14691,14410,9016,5657,14021,761,11819]\n",
    "# for testing the recommender after getting some recommendations\n",
    "relevant_items = []"
   ]
  },
  {
   "cell_type": "code",
   "execution_count": 39,
   "id": "37cea34f",
   "metadata": {
    "scrolled": true
   },
   "outputs": [
    {
     "data": {
      "text/plain": [
       "['cityblock', 'cosine', 'euclidean', 'l1', 'l2', 'manhattan', 'precomputed']"
      ]
     },
     "execution_count": 39,
     "metadata": {},
     "output_type": "execute_result"
    }
   ],
   "source": [
    "# which metrics can we use\n",
    "sorted(sklearn.neighbors.VALID_METRICS_SPARSE['brute'])"
   ]
  },
  {
   "cell_type": "code",
   "execution_count": 59,
   "id": "714de73b",
   "metadata": {},
   "outputs": [],
   "source": [
    "# initialize the unsupervised model\n",
    "model = NearestNeighbors(metric='cosine')\n"
   ]
  },
  {
   "cell_type": "code",
   "execution_count": 60,
   "id": "44bb5e99",
   "metadata": {},
   "outputs": [
    {
     "data": {
      "text/plain": [
       "NearestNeighbors(metric='cosine')"
      ]
     },
     "execution_count": 60,
     "metadata": {},
     "output_type": "execute_result"
    }
   ],
   "source": [
    "# fit it to the user-item matrix\n",
    "model.fit(user)"
   ]
  },
  {
   "cell_type": "code",
   "execution_count": 61,
   "id": "cd48d947",
   "metadata": {},
   "outputs": [
    {
     "data": {
      "text/plain": [
       "(array([[1., 1., 1., 1., 1., 1., 1., 1., 1., 1., 1., 1., 1., 1., 1., 1.,\n",
       "         1., 1., 1., 1.]]),\n",
       " array([[1766185, 1766187, 1766188, 1766189, 1766190, 1766191, 1766192,\n",
       "         1766193, 1766194, 1766195, 1766196, 1766197, 1766198, 1766199,\n",
       "         1766200, 1766201, 1766202, 1766184, 1766186, 1766204]],\n",
       "       dtype=int64))"
      ]
     },
     "execution_count": 61,
     "metadata": {},
     "output_type": "execute_result"
    }
   ],
   "source": [
    "# top-10 most similar users for the user with the id 1 (id1 is included in the neighborhood!)\n",
    "model.kneighbors(user[1,:], n_neighbors=20)"
   ]
  },
  {
   "cell_type": "code",
   "execution_count": 62,
   "id": "d97766ee",
   "metadata": {},
   "outputs": [
    {
     "data": {
      "text/plain": [
       "(1, 17770)"
      ]
     },
     "execution_count": 62,
     "metadata": {},
     "output_type": "execute_result"
    }
   ],
   "source": [
    "user[1,:].shape"
   ]
  },
  {
   "cell_type": "code",
   "execution_count": 63,
   "id": "d69cb535",
   "metadata": {},
   "outputs": [
    {
     "data": {
      "text/plain": [
       "(17770,)"
      ]
     },
     "execution_count": 63,
     "metadata": {},
     "output_type": "execute_result"
    }
   ],
   "source": [
    "# new user vector\n",
    "user_vec = np.repeat(0, 17770)\n",
    "user_vec.shape"
   ]
  },
  {
   "cell_type": "code",
   "execution_count": 76,
   "id": "f1713429",
   "metadata": {},
   "outputs": [
    {
     "data": {
      "text/plain": [
       "(17770,)"
      ]
     },
     "execution_count": 76,
     "metadata": {},
     "output_type": "execute_result"
    }
   ],
   "source": [
    "\n",
    "# fill in some ratings\n",
    "user_vec[liked_items] = 5\n",
    "user_vec.shape"
   ]
  },
  {
   "cell_type": "code",
   "execution_count": 77,
   "id": "9dc776dd",
   "metadata": {},
   "outputs": [],
   "source": [
    "# find the neighborhood\n",
    "distances, user_ids = model.kneighbors([user_vec], n_neighbors=10)"
   ]
  },
  {
   "cell_type": "code",
   "execution_count": 78,
   "id": "3638571f",
   "metadata": {},
   "outputs": [
    {
     "data": {
      "text/plain": [
       "array([[1583664, 1330226, 1843540,  989704,  815238, 1027371,  998862,\n",
       "        2568366,  879221, 1631168]], dtype=int64)"
      ]
     },
     "execution_count": 78,
     "metadata": {},
     "output_type": "execute_result"
    }
   ],
   "source": [
    "user_ids"
   ]
  },
  {
   "cell_type": "code",
   "execution_count": 79,
   "id": "3e3339bc",
   "metadata": {},
   "outputs": [
    {
     "data": {
      "text/html": [
       "<div>\n",
       "<style scoped>\n",
       "    .dataframe tbody tr th:only-of-type {\n",
       "        vertical-align: middle;\n",
       "    }\n",
       "\n",
       "    .dataframe tbody tr th {\n",
       "        vertical-align: top;\n",
       "    }\n",
       "\n",
       "    .dataframe thead th {\n",
       "        text-align: right;\n",
       "    }\n",
       "</style>\n",
       "<table border=\"1\" class=\"dataframe\">\n",
       "  <thead>\n",
       "    <tr style=\"text-align: right;\">\n",
       "      <th></th>\n",
       "      <th>rating</th>\n",
       "      <th>movieid</th>\n",
       "      <th>title</th>\n",
       "    </tr>\n",
       "    <tr>\n",
       "      <th>customerid</th>\n",
       "      <th></th>\n",
       "      <th></th>\n",
       "      <th></th>\n",
       "    </tr>\n",
       "  </thead>\n",
       "  <tbody>\n",
       "    <tr>\n",
       "      <th>1583664</th>\n",
       "      <td>3.0</td>\n",
       "      <td>571</td>\n",
       "      <td>American Beauty</td>\n",
       "    </tr>\n",
       "    <tr>\n",
       "      <th>1583664</th>\n",
       "      <td>3.0</td>\n",
       "      <td>575</td>\n",
       "      <td>Highlander: Season 4</td>\n",
       "    </tr>\n",
       "    <tr>\n",
       "      <th>1583664</th>\n",
       "      <td>3.0</td>\n",
       "      <td>607</td>\n",
       "      <td>Speed</td>\n",
       "    </tr>\n",
       "    <tr>\n",
       "      <th>1583664</th>\n",
       "      <td>5.0</td>\n",
       "      <td>708</td>\n",
       "      <td>The Perfect Storm</td>\n",
       "    </tr>\n",
       "    <tr>\n",
       "      <th>1583664</th>\n",
       "      <td>4.0</td>\n",
       "      <td>752</td>\n",
       "      <td>Star Trek: The Next Generation: Season 7</td>\n",
       "    </tr>\n",
       "    <tr>\n",
       "      <th>...</th>\n",
       "      <td>...</td>\n",
       "      <td>...</td>\n",
       "      <td>...</td>\n",
       "    </tr>\n",
       "    <tr>\n",
       "      <th>1631168</th>\n",
       "      <td>4.0</td>\n",
       "      <td>483</td>\n",
       "      <td>Rush Hour 2</td>\n",
       "    </tr>\n",
       "    <tr>\n",
       "      <th>1631168</th>\n",
       "      <td>5.0</td>\n",
       "      <td>486</td>\n",
       "      <td>Journey to the Center of the Earth</td>\n",
       "    </tr>\n",
       "    <tr>\n",
       "      <th>1631168</th>\n",
       "      <td>5.0</td>\n",
       "      <td>488</td>\n",
       "      <td>His Secret Life</td>\n",
       "    </tr>\n",
       "    <tr>\n",
       "      <th>1631168</th>\n",
       "      <td>5.0</td>\n",
       "      <td>504</td>\n",
       "      <td>The Twilight Zone: Vol. 27</td>\n",
       "    </tr>\n",
       "    <tr>\n",
       "      <th>1631168</th>\n",
       "      <td>3.0</td>\n",
       "      <td>535</td>\n",
       "      <td>The Alamo</td>\n",
       "    </tr>\n",
       "  </tbody>\n",
       "</table>\n",
       "<p>9934 rows × 3 columns</p>\n",
       "</div>"
      ],
      "text/plain": [
       "            rating  movieid                                     title\n",
       "customerid                                                           \n",
       "1583664        3.0      571                           American Beauty\n",
       "1583664        3.0      575                      Highlander: Season 4\n",
       "1583664        3.0      607                                     Speed\n",
       "1583664        5.0      708                         The Perfect Storm\n",
       "1583664        4.0      752  Star Trek: The Next Generation: Season 7\n",
       "...            ...      ...                                       ...\n",
       "1631168        4.0      483                               Rush Hour 2\n",
       "1631168        5.0      486        Journey to the Center of the Earth\n",
       "1631168        5.0      488                           His Secret Life\n",
       "1631168        5.0      504                The Twilight Zone: Vol. 27\n",
       "1631168        3.0      535                                 The Alamo\n",
       "\n",
       "[9934 rows x 3 columns]"
      ]
     },
     "execution_count": 79,
     "metadata": {},
     "output_type": "execute_result"
    }
   ],
   "source": [
    "# find the ratings for the neighbors\n",
    "neighborhood = ratings.set_index('customerid').loc[user_ids[0]]\n",
    "neighborhood"
   ]
  },
  {
   "cell_type": "code",
   "execution_count": 80,
   "id": "ef26210e",
   "metadata": {},
   "outputs": [
    {
     "data": {
      "text/plain": [
       "movieid\n",
       "14240    49.0\n",
       "9628     49.0\n",
       "7230     49.0\n",
       "16265    49.0\n",
       "5582     49.0\n",
       "         ... \n",
       "2905      1.0\n",
       "2834      1.0\n",
       "8211      1.0\n",
       "2791      1.0\n",
       "13551     1.0\n",
       "Name: rating, Length: 3355, dtype: float64"
      ]
     },
     "execution_count": 80,
     "metadata": {},
     "output_type": "execute_result"
    }
   ],
   "source": [
    "recommendations = neighborhood.groupby('movieid')['rating'].sum().sort_values(ascending=False)\n",
    "recommendations"
   ]
  },
  {
   "cell_type": "code",
   "execution_count": 81,
   "id": "b8f09c57",
   "metadata": {},
   "outputs": [
    {
     "data": {
      "text/plain": [
       "[12748, 4979, 12785, 12918, 13031, 13313, 16265, 14240, 14214]"
      ]
     },
     "execution_count": 81,
     "metadata": {},
     "output_type": "execute_result"
    }
   ],
   "source": [
    "liked_items"
   ]
  },
  {
   "cell_type": "code",
   "execution_count": 82,
   "id": "f7b18cb4",
   "metadata": {},
   "outputs": [],
   "source": [
    "# filter out movies that the user allready watched\n",
    "item_filter = ~recommendations.index.isin(liked_items)\n",
    "recommendations = recommendations.loc[item_filter]"
   ]
  },
  {
   "cell_type": "code",
   "execution_count": 83,
   "id": "e08ae59d",
   "metadata": {},
   "outputs": [
    {
     "data": {
      "text/html": [
       "<div>\n",
       "<style scoped>\n",
       "    .dataframe tbody tr th:only-of-type {\n",
       "        vertical-align: middle;\n",
       "    }\n",
       "\n",
       "    .dataframe tbody tr th {\n",
       "        vertical-align: top;\n",
       "    }\n",
       "\n",
       "    .dataframe thead th {\n",
       "        text-align: right;\n",
       "    }\n",
       "</style>\n",
       "<table border=\"1\" class=\"dataframe\">\n",
       "  <thead>\n",
       "    <tr style=\"text-align: right;\">\n",
       "      <th></th>\n",
       "      <th>movieid</th>\n",
       "      <th>year</th>\n",
       "      <th>title</th>\n",
       "    </tr>\n",
       "    <tr>\n",
       "      <th>movieid</th>\n",
       "      <th></th>\n",
       "      <th></th>\n",
       "      <th></th>\n",
       "    </tr>\n",
       "  </thead>\n",
       "  <tbody>\n",
       "    <tr>\n",
       "      <th>9628</th>\n",
       "      <td>9629</td>\n",
       "      <td>2002</td>\n",
       "      <td>Stranded</td>\n",
       "    </tr>\n",
       "    <tr>\n",
       "      <th>7230</th>\n",
       "      <td>7231</td>\n",
       "      <td>2005</td>\n",
       "      <td>Audioslave: Live in Cuba</td>\n",
       "    </tr>\n",
       "    <tr>\n",
       "      <th>5582</th>\n",
       "      <td>5583</td>\n",
       "      <td>2005</td>\n",
       "      <td>The Marksman</td>\n",
       "    </tr>\n",
       "    <tr>\n",
       "      <th>7057</th>\n",
       "      <td>7058</td>\n",
       "      <td>1979</td>\n",
       "      <td>Zombie</td>\n",
       "    </tr>\n",
       "    <tr>\n",
       "      <th>2452</th>\n",
       "      <td>2453</td>\n",
       "      <td>2001</td>\n",
       "      <td>Happy End</td>\n",
       "    </tr>\n",
       "    <tr>\n",
       "      <th>3523</th>\n",
       "      <td>3524</td>\n",
       "      <td>1994</td>\n",
       "      <td>Pulp Fiction: Bonus Material</td>\n",
       "    </tr>\n",
       "    <tr>\n",
       "      <th>11521</th>\n",
       "      <td>11522</td>\n",
       "      <td>2002</td>\n",
       "      <td>Queer as Folk: Season 2</td>\n",
       "    </tr>\n",
       "    <tr>\n",
       "      <th>752</th>\n",
       "      <td>753</td>\n",
       "      <td>1964</td>\n",
       "      <td>Mary Poppins: Bonus Material</td>\n",
       "    </tr>\n",
       "    <tr>\n",
       "      <th>10666</th>\n",
       "      <td>10667</td>\n",
       "      <td>2005</td>\n",
       "      <td>Stone Cold</td>\n",
       "    </tr>\n",
       "    <tr>\n",
       "      <th>2040</th>\n",
       "      <td>2041</td>\n",
       "      <td>1998</td>\n",
       "      <td>Silent Mobius: Vol. 2</td>\n",
       "    </tr>\n",
       "  </tbody>\n",
       "</table>\n",
       "</div>"
      ],
      "text/plain": [
       "         movieid  year                         title\n",
       "movieid                                             \n",
       "9628        9629  2002                      Stranded\n",
       "7230        7231  2005      Audioslave: Live in Cuba\n",
       "5582        5583  2005                  The Marksman\n",
       "7057        7058  1979                        Zombie\n",
       "2452        2453  2001                     Happy End\n",
       "3523        3524  1994  Pulp Fiction: Bonus Material\n",
       "11521      11522  2002       Queer as Folk: Season 2\n",
       "752          753  1964  Mary Poppins: Bonus Material\n",
       "10666      10667  2005                    Stone Cold\n",
       "2040        2041  1998         Silent Mobius: Vol. 2"
      ]
     },
     "execution_count": 83,
     "metadata": {},
     "output_type": "execute_result"
    }
   ],
   "source": [
    "# top 10 recommendations\n",
    "movies.loc[recommendations.head(10).index]"
   ]
  },
  {
   "cell_type": "code",
   "execution_count": null,
   "id": "c946afec",
   "metadata": {},
   "outputs": [],
   "source": [
    "recommended_movie_ids = recommendations.head(10).index\n",
    "recommended_movie_ids"
   ]
  },
  {
   "cell_type": "code",
   "execution_count": null,
   "id": "7141180d",
   "metadata": {},
   "outputs": [],
   "source": [
    "relevant_items"
   ]
  },
  {
   "cell_type": "code",
   "execution_count": 89,
   "id": "7ff06f25",
   "metadata": {},
   "outputs": [],
   "source": [
    "filename = 'finalized_model.sav'\n",
    "pickle.dump(model, open(filename, 'wb'))"
   ]
  },
  {
   "cell_type": "code",
   "execution_count": 93,
   "id": "0442414e",
   "metadata": {},
   "outputs": [
    {
     "ename": "AttributeError",
     "evalue": "'NearestNeighbors' object has no attribute 'neighborhood'",
     "output_type": "error",
     "traceback": [
      "\u001b[1;31m---------------------------------------------------------------------------\u001b[0m",
      "\u001b[1;31mAttributeError\u001b[0m                            Traceback (most recent call last)",
      "Input \u001b[1;32mIn [93]\u001b[0m, in \u001b[0;36m<cell line: 2>\u001b[1;34m()\u001b[0m\n\u001b[0;32m      1\u001b[0m loaded_model \u001b[38;5;241m=\u001b[39m pickle\u001b[38;5;241m.\u001b[39mload(\u001b[38;5;28mopen\u001b[39m(filename, \u001b[38;5;124m'\u001b[39m\u001b[38;5;124mrb\u001b[39m\u001b[38;5;124m'\u001b[39m))\n\u001b[1;32m----> 2\u001b[0m recommendations \u001b[38;5;241m=\u001b[39m \u001b[43mloaded_model\u001b[49m\u001b[38;5;241;43m.\u001b[39;49m\u001b[43mneighborhood\u001b[49m\u001b[38;5;241m.\u001b[39mgroupby(\u001b[38;5;124m'\u001b[39m\u001b[38;5;124mmovieid\u001b[39m\u001b[38;5;124m'\u001b[39m)[\u001b[38;5;124m'\u001b[39m\u001b[38;5;124mrating\u001b[39m\u001b[38;5;124m'\u001b[39m]\u001b[38;5;241m.\u001b[39msum()\u001b[38;5;241m.\u001b[39msort_values(ascending\u001b[38;5;241m=\u001b[39m\u001b[38;5;28;01mFalse\u001b[39;00m)\u001b[38;5;241m.\u001b[39mhead(\u001b[38;5;241m10\u001b[39m)\u001b[38;5;241m.\u001b[39mindex\n\u001b[0;32m      3\u001b[0m recommendations\n",
      "\u001b[1;31mAttributeError\u001b[0m: 'NearestNeighbors' object has no attribute 'neighborhood'"
     ]
    }
   ],
   "source": [
    "loaded_model = pickle.load(open(filename, 'rb'))\n",
    "recommendations = loaded_model.\n",
    "recommendations"
   ]
  },
  {
   "cell_type": "code",
   "execution_count": null,
   "id": "4d499bf1",
   "metadata": {},
   "outputs": [],
   "source": []
  },
  {
   "cell_type": "code",
   "execution_count": null,
   "id": "66a32c0c",
   "metadata": {},
   "outputs": [],
   "source": []
  }
 ],
 "metadata": {
  "kernelspec": {
   "display_name": "Python 3 (ipykernel)",
   "language": "python",
   "name": "python3"
  },
  "language_info": {
   "codemirror_mode": {
    "name": "ipython",
    "version": 3
   },
   "file_extension": ".py",
   "mimetype": "text/x-python",
   "name": "python",
   "nbconvert_exporter": "python",
   "pygments_lexer": "ipython3",
   "version": "3.9.12"
  }
 },
 "nbformat": 4,
 "nbformat_minor": 5
}
