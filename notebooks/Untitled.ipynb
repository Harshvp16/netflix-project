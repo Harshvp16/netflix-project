{
 "cells": [
  {
   "cell_type": "code",
   "execution_count": 1,
   "id": "0e477273",
   "metadata": {},
   "outputs": [],
   "source": [
    "import pandas as pd"
   ]
  },
  {
   "cell_type": "code",
   "execution_count": 5,
   "id": "19d34c46",
   "metadata": {},
   "outputs": [],
   "source": [
    "d= pd.read_csv(\"../data/ratings.csv\", names=[\"customerid\",\"rating\",\"date\", \"movieid\"])"
   ]
  },
  {
   "cell_type": "code",
   "execution_count": 6,
   "id": "55d5ab13",
   "metadata": {},
   "outputs": [
    {
     "name": "stdout",
     "output_type": "stream",
     "text": [
      "<class 'pandas.core.frame.DataFrame'>\n",
      "RangeIndex: 100480507 entries, 0 to 100480506\n",
      "Data columns (total 4 columns):\n",
      " #   Column      Dtype  \n",
      "---  ------      -----  \n",
      " 0   customerid  int64  \n",
      " 1   rating      float64\n",
      " 2   date        object \n",
      " 3   movieid     object \n",
      "dtypes: float64(1), int64(1), object(2)\n",
      "memory usage: 3.0+ GB\n"
     ]
    }
   ],
   "source": [
    "d.info()"
   ]
  },
  {
   "cell_type": "code",
   "execution_count": 8,
   "id": "bc70909a",
   "metadata": {
    "scrolled": true
   },
   "outputs": [
    {
     "data": {
      "text/html": [
       "<div>\n",
       "<style scoped>\n",
       "    .dataframe tbody tr th:only-of-type {\n",
       "        vertical-align: middle;\n",
       "    }\n",
       "\n",
       "    .dataframe tbody tr th {\n",
       "        vertical-align: top;\n",
       "    }\n",
       "\n",
       "    .dataframe thead th {\n",
       "        text-align: right;\n",
       "    }\n",
       "</style>\n",
       "<table border=\"1\" class=\"dataframe\">\n",
       "  <thead>\n",
       "    <tr style=\"text-align: right;\">\n",
       "      <th></th>\n",
       "      <th>customerid</th>\n",
       "      <th>rating</th>\n",
       "      <th>date</th>\n",
       "      <th>movieid</th>\n",
       "    </tr>\n",
       "  </thead>\n",
       "  <tbody>\n",
       "    <tr>\n",
       "      <th>100480502</th>\n",
       "      <td>1790158</td>\n",
       "      <td>4.0</td>\n",
       "      <td>2005-11-01</td>\n",
       "      <td>17770:</td>\n",
       "    </tr>\n",
       "    <tr>\n",
       "      <th>100480503</th>\n",
       "      <td>1608708</td>\n",
       "      <td>3.0</td>\n",
       "      <td>2005-07-19</td>\n",
       "      <td>17770:</td>\n",
       "    </tr>\n",
       "    <tr>\n",
       "      <th>100480504</th>\n",
       "      <td>234275</td>\n",
       "      <td>1.0</td>\n",
       "      <td>2004-08-07</td>\n",
       "      <td>17770:</td>\n",
       "    </tr>\n",
       "    <tr>\n",
       "      <th>100480505</th>\n",
       "      <td>255278</td>\n",
       "      <td>4.0</td>\n",
       "      <td>2004-05-28</td>\n",
       "      <td>17770:</td>\n",
       "    </tr>\n",
       "    <tr>\n",
       "      <th>100480506</th>\n",
       "      <td>453585</td>\n",
       "      <td>2.0</td>\n",
       "      <td>2005-03-10</td>\n",
       "      <td>17770:</td>\n",
       "    </tr>\n",
       "  </tbody>\n",
       "</table>\n",
       "</div>"
      ],
      "text/plain": [
       "           customerid  rating        date movieid\n",
       "100480502     1790158     4.0  2005-11-01  17770:\n",
       "100480503     1608708     3.0  2005-07-19  17770:\n",
       "100480504      234275     1.0  2004-08-07  17770:\n",
       "100480505      255278     4.0  2004-05-28  17770:\n",
       "100480506      453585     2.0  2005-03-10  17770:"
      ]
     },
     "execution_count": 8,
     "metadata": {},
     "output_type": "execute_result"
    }
   ],
   "source": [
    "d.tail()"
   ]
  },
  {
   "cell_type": "code",
   "execution_count": null,
   "id": "66a32c0c",
   "metadata": {},
   "outputs": [],
   "source": []
  }
 ],
 "metadata": {
  "kernelspec": {
   "display_name": "Python 3 (ipykernel)",
   "language": "python",
   "name": "python3"
  },
  "language_info": {
   "codemirror_mode": {
    "name": "ipython",
    "version": 3
   },
   "file_extension": ".py",
   "mimetype": "text/x-python",
   "name": "python",
   "nbconvert_exporter": "python",
   "pygments_lexer": "ipython3",
   "version": "3.9.12"
  }
 },
 "nbformat": 4,
 "nbformat_minor": 5
}
