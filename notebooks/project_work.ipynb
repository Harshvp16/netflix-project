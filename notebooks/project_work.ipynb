{
 "cells": [
  {
   "cell_type": "code",
   "execution_count": 92,
   "id": "4323431b",
   "metadata": {},
   "outputs": [],
   "source": [
    "import pandas as pd\n",
    "import numpy as np\n",
    "import seaborn as sns\n",
    "import matplotlib.pyplot as plt\n",
    "from tqdm import tqdm\n",
    "from dotenv import dotenv_values\n",
    "from sqlalchemy import create_engine\n",
    "from sklearn import datasets  \n",
    "from sklearn.preprocessing import StandardScaler\n",
    "from sklearn.model_selection import train_test_split\n",
    "from sklearn.linear_model import LinearRegression\n",
    "import sklearn.metrics\n",
    "from sklearn.metrics import accuracy_score\n",
    "from sklearn.cluster import KMeans\n",
    "import statsmodels.formula.api as sm\n",
    "import scipy.stats as stats\n",
    "from PIL import Image\n",
    "import plotly.express as px\n",
    "import plotly.offline as pyo\n",
    "import plotly.figure_factory as pf\n",
    "import os\n",
    "import streamlit as sl"
   ]
  },
  {
   "cell_type": "raw",
   "id": "770ad8f2",
   "metadata": {},
   "source": [
    "!pip install streamlit"
   ]
  },
  {
   "cell_type": "markdown",
   "id": "bc048f18",
   "metadata": {},
   "source": [
    "### Reading different datasets "
   ]
  },
  {
   "cell_type": "raw",
   "id": "f92cb9cf",
   "metadata": {},
   "source": [
    "df = pd.read_csv(\"../data/netflix_titles.csv\")"
   ]
  },
  {
   "cell_type": "raw",
   "id": "179bce42",
   "metadata": {},
   "source": [
    "df.head()"
   ]
  },
  {
   "cell_type": "raw",
   "id": "1501b3f4",
   "metadata": {},
   "source": [
    "movies = df[df[\"type\"]== \"Movie\"]"
   ]
  },
  {
   "cell_type": "raw",
   "id": "e9ac82be",
   "metadata": {},
   "source": [
    "movies.info()"
   ]
  },
  {
   "cell_type": "raw",
   "id": "1ae066ea",
   "metadata": {},
   "source": [
    "movies.to_csv (\"../data/mv.csv\", index =False)"
   ]
  },
  {
   "cell_type": "raw",
   "id": "6e44277b",
   "metadata": {},
   "source": [
    "tv = df[df[\"type\"]== \"TV Show\"]"
   ]
  },
  {
   "cell_type": "raw",
   "id": "86ef5e33",
   "metadata": {},
   "source": [
    "tv.to_csv (\"../data/tv.csv\", index =False)"
   ]
  },
  {
   "cell_type": "markdown",
   "id": "2fe9261b",
   "metadata": {},
   "source": [
    "### Filtering Movie titles"
   ]
  },
  {
   "cell_type": "raw",
   "id": "b6b3d0bf",
   "metadata": {},
   "source": [
    "n = pd.read_csv(\"../data/movie_titles.csv\", encoding = \"unicode_escape\" ,names= [\"movieid\",\"year\",\"title\"])"
   ]
  },
  {
   "cell_type": "raw",
   "id": "198898e5",
   "metadata": {},
   "source": [
    "n.head()"
   ]
  },
  {
   "cell_type": "raw",
   "id": "c66cb714",
   "metadata": {},
   "source": [
    "n.info()"
   ]
  },
  {
   "cell_type": "raw",
   "id": "d53c8776",
   "metadata": {},
   "source": [
    "n.fillna(value=0, inplace= True)"
   ]
  },
  {
   "cell_type": "raw",
   "id": "939db894",
   "metadata": {},
   "source": [
    "n.info()"
   ]
  },
  {
   "cell_type": "raw",
   "id": "4adede0f",
   "metadata": {},
   "source": [
    "n[\"year\"]= n[\"year\"].astype(int)"
   ]
  },
  {
   "cell_type": "raw",
   "id": "295c49b4",
   "metadata": {},
   "source": [
    "n.head()"
   ]
  },
  {
   "cell_type": "raw",
   "id": "8188fd94",
   "metadata": {},
   "source": [
    "n.to_csv (\"../data/movie_sorted.csv\", index =False)"
   ]
  },
  {
   "cell_type": "markdown",
   "id": "08860b87",
   "metadata": {},
   "source": [
    "### Reading sorted Data"
   ]
  },
  {
   "cell_type": "code",
   "execution_count": 2,
   "id": "aafe7e10",
   "metadata": {},
   "outputs": [],
   "source": [
    "n= pd.read_csv(\"../data/movie_sorted.csv\")"
   ]
  },
  {
   "cell_type": "code",
   "execution_count": 3,
   "id": "7f0c6ded",
   "metadata": {},
   "outputs": [
    {
     "data": {
      "text/html": [
       "<div>\n",
       "<style scoped>\n",
       "    .dataframe tbody tr th:only-of-type {\n",
       "        vertical-align: middle;\n",
       "    }\n",
       "\n",
       "    .dataframe tbody tr th {\n",
       "        vertical-align: top;\n",
       "    }\n",
       "\n",
       "    .dataframe thead th {\n",
       "        text-align: right;\n",
       "    }\n",
       "</style>\n",
       "<table border=\"1\" class=\"dataframe\">\n",
       "  <thead>\n",
       "    <tr style=\"text-align: right;\">\n",
       "      <th></th>\n",
       "      <th>movieid</th>\n",
       "      <th>year</th>\n",
       "      <th>title</th>\n",
       "    </tr>\n",
       "  </thead>\n",
       "  <tbody>\n",
       "    <tr>\n",
       "      <th>17765</th>\n",
       "      <td>17766</td>\n",
       "      <td>2002</td>\n",
       "      <td>Where the Wild Things Are and Other Maurice Se...</td>\n",
       "    </tr>\n",
       "    <tr>\n",
       "      <th>17766</th>\n",
       "      <td>17767</td>\n",
       "      <td>2004</td>\n",
       "      <td>Fidel Castro: American Experience</td>\n",
       "    </tr>\n",
       "    <tr>\n",
       "      <th>17767</th>\n",
       "      <td>17768</td>\n",
       "      <td>2000</td>\n",
       "      <td>Epoch</td>\n",
       "    </tr>\n",
       "    <tr>\n",
       "      <th>17768</th>\n",
       "      <td>17769</td>\n",
       "      <td>2003</td>\n",
       "      <td>The Company</td>\n",
       "    </tr>\n",
       "    <tr>\n",
       "      <th>17769</th>\n",
       "      <td>17770</td>\n",
       "      <td>2003</td>\n",
       "      <td>Alien Hunter</td>\n",
       "    </tr>\n",
       "  </tbody>\n",
       "</table>\n",
       "</div>"
      ],
      "text/plain": [
       "       movieid  year                                              title\n",
       "17765    17766  2002  Where the Wild Things Are and Other Maurice Se...\n",
       "17766    17767  2004                  Fidel Castro: American Experience\n",
       "17767    17768  2000                                              Epoch\n",
       "17768    17769  2003                                        The Company\n",
       "17769    17770  2003                                       Alien Hunter"
      ]
     },
     "execution_count": 3,
     "metadata": {},
     "output_type": "execute_result"
    }
   ],
   "source": [
    "n.tail()"
   ]
  },
  {
   "cell_type": "markdown",
   "id": "8a43d8ed",
   "metadata": {},
   "source": [
    "### Reading the rating files for movieid 1 and cleaning the file "
   ]
  },
  {
   "cell_type": "code",
   "execution_count": 4,
   "id": "52ead248",
   "metadata": {},
   "outputs": [],
   "source": [
    "df = pd.read_csv(\"../data/mv_0000001.txt\", names=[\"customerid\",\"rating\",\"date\"] )"
   ]
  },
  {
   "cell_type": "code",
   "execution_count": 5,
   "id": "a5816a4d",
   "metadata": {},
   "outputs": [
    {
     "data": {
      "text/html": [
       "<div>\n",
       "<style scoped>\n",
       "    .dataframe tbody tr th:only-of-type {\n",
       "        vertical-align: middle;\n",
       "    }\n",
       "\n",
       "    .dataframe tbody tr th {\n",
       "        vertical-align: top;\n",
       "    }\n",
       "\n",
       "    .dataframe thead th {\n",
       "        text-align: right;\n",
       "    }\n",
       "</style>\n",
       "<table border=\"1\" class=\"dataframe\">\n",
       "  <thead>\n",
       "    <tr style=\"text-align: right;\">\n",
       "      <th></th>\n",
       "      <th>customerid</th>\n",
       "      <th>rating</th>\n",
       "      <th>date</th>\n",
       "    </tr>\n",
       "  </thead>\n",
       "  <tbody>\n",
       "    <tr>\n",
       "      <th>0</th>\n",
       "      <td>1:</td>\n",
       "      <td>NaN</td>\n",
       "      <td>NaN</td>\n",
       "    </tr>\n",
       "    <tr>\n",
       "      <th>1</th>\n",
       "      <td>1488844</td>\n",
       "      <td>3.0</td>\n",
       "      <td>2005-09-06</td>\n",
       "    </tr>\n",
       "    <tr>\n",
       "      <th>2</th>\n",
       "      <td>822109</td>\n",
       "      <td>5.0</td>\n",
       "      <td>2005-05-13</td>\n",
       "    </tr>\n",
       "    <tr>\n",
       "      <th>3</th>\n",
       "      <td>885013</td>\n",
       "      <td>4.0</td>\n",
       "      <td>2005-10-19</td>\n",
       "    </tr>\n",
       "    <tr>\n",
       "      <th>4</th>\n",
       "      <td>30878</td>\n",
       "      <td>4.0</td>\n",
       "      <td>2005-12-26</td>\n",
       "    </tr>\n",
       "  </tbody>\n",
       "</table>\n",
       "</div>"
      ],
      "text/plain": [
       "  customerid  rating        date\n",
       "0         1:     NaN         NaN\n",
       "1    1488844     3.0  2005-09-06\n",
       "2     822109     5.0  2005-05-13\n",
       "3     885013     4.0  2005-10-19\n",
       "4      30878     4.0  2005-12-26"
      ]
     },
     "execution_count": 5,
     "metadata": {},
     "output_type": "execute_result"
    }
   ],
   "source": [
    "df.head()"
   ]
  },
  {
   "cell_type": "raw",
   "id": "132c0854",
   "metadata": {},
   "source": [
    "df[\"date\"] = pd.to_datetime(df[\"date\"], format = \"%Y-%m-%d\")"
   ]
  },
  {
   "cell_type": "raw",
   "id": "9929766e",
   "metadata": {},
   "source": [
    "df.iloc[:1 , :1]"
   ]
  },
  {
   "cell_type": "raw",
   "id": "b68f8c87",
   "metadata": {},
   "source": [
    "df= df.assign(movieid = df.iloc[:1 , :1])"
   ]
  },
  {
   "cell_type": "raw",
   "id": "591f24db",
   "metadata": {},
   "source": [
    "df[\"movieid\"].fillna(method= \"ffill\", inplace= True)"
   ]
  },
  {
   "cell_type": "raw",
   "id": "4b5cce42",
   "metadata": {},
   "source": [
    "df = df.iloc[1:, :]"
   ]
  },
  {
   "cell_type": "raw",
   "id": "d5e7ebfd",
   "metadata": {},
   "source": [
    "df[\"movieid\"]= df[\"movieid\"].str.replace(r\":\",\"\")"
   ]
  },
  {
   "cell_type": "raw",
   "id": "7b53052d",
   "metadata": {},
   "source": [
    "df[\"movieid\"]=df[\"movieid\"].astype(int)"
   ]
  },
  {
   "cell_type": "raw",
   "id": "97a115e8",
   "metadata": {},
   "source": [
    "df.to_csv(\"../data/movieid1_rating.csv\", index =False)"
   ]
  },
  {
   "cell_type": "markdown",
   "id": "a6c61cb6",
   "metadata": {},
   "source": [
    "### checking the first cleaned rating file "
   ]
  },
  {
   "cell_type": "code",
   "execution_count": 6,
   "id": "a27cf341",
   "metadata": {},
   "outputs": [],
   "source": [
    "df= pd.read_csv(\"../data/movieid1_rating.csv\")"
   ]
  },
  {
   "cell_type": "code",
   "execution_count": 7,
   "id": "c081dae1",
   "metadata": {},
   "outputs": [
    {
     "data": {
      "text/html": [
       "<div>\n",
       "<style scoped>\n",
       "    .dataframe tbody tr th:only-of-type {\n",
       "        vertical-align: middle;\n",
       "    }\n",
       "\n",
       "    .dataframe tbody tr th {\n",
       "        vertical-align: top;\n",
       "    }\n",
       "\n",
       "    .dataframe thead th {\n",
       "        text-align: right;\n",
       "    }\n",
       "</style>\n",
       "<table border=\"1\" class=\"dataframe\">\n",
       "  <thead>\n",
       "    <tr style=\"text-align: right;\">\n",
       "      <th></th>\n",
       "      <th>customerid</th>\n",
       "      <th>rating</th>\n",
       "      <th>date</th>\n",
       "      <th>movieid</th>\n",
       "    </tr>\n",
       "  </thead>\n",
       "  <tbody>\n",
       "    <tr>\n",
       "      <th>0</th>\n",
       "      <td>1488844</td>\n",
       "      <td>3.0</td>\n",
       "      <td>2005-09-06</td>\n",
       "      <td>1</td>\n",
       "    </tr>\n",
       "    <tr>\n",
       "      <th>1</th>\n",
       "      <td>822109</td>\n",
       "      <td>5.0</td>\n",
       "      <td>2005-05-13</td>\n",
       "      <td>1</td>\n",
       "    </tr>\n",
       "    <tr>\n",
       "      <th>2</th>\n",
       "      <td>885013</td>\n",
       "      <td>4.0</td>\n",
       "      <td>2005-10-19</td>\n",
       "      <td>1</td>\n",
       "    </tr>\n",
       "    <tr>\n",
       "      <th>3</th>\n",
       "      <td>30878</td>\n",
       "      <td>4.0</td>\n",
       "      <td>2005-12-26</td>\n",
       "      <td>1</td>\n",
       "    </tr>\n",
       "    <tr>\n",
       "      <th>4</th>\n",
       "      <td>823519</td>\n",
       "      <td>3.0</td>\n",
       "      <td>2004-05-03</td>\n",
       "      <td>1</td>\n",
       "    </tr>\n",
       "  </tbody>\n",
       "</table>\n",
       "</div>"
      ],
      "text/plain": [
       "   customerid  rating        date  movieid\n",
       "0     1488844     3.0  2005-09-06        1\n",
       "1      822109     5.0  2005-05-13        1\n",
       "2      885013     4.0  2005-10-19        1\n",
       "3       30878     4.0  2005-12-26        1\n",
       "4      823519     3.0  2004-05-03        1"
      ]
     },
     "execution_count": 7,
     "metadata": {},
     "output_type": "execute_result"
    }
   ],
   "source": [
    "df.head()"
   ]
  },
  {
   "cell_type": "markdown",
   "id": "9acb84dd",
   "metadata": {},
   "source": [
    "### Creating a function to read and clean all the rating files"
   ]
  },
  {
   "cell_type": "raw",
   "id": "62d6624a",
   "metadata": {},
   "source": [
    "def parse_file(filename):\n",
    "    df = pd.read_csv(f\"../data/netflix_data/training_set/{filename}\", names=[\"customerid\",\"rating\",\"date\"])\n",
    "    df[\"date\"] = pd.to_datetime(df[\"date\"], format = \"%Y-%m-%d\")\n",
    "    df= df.assign(movieid = df.iloc[:1 , :1])\n",
    "    df[\"movieid\"].fillna(method= \"ffill\", inplace= True)\n",
    "    df = df.iloc[1:, :]\n",
    "    df[\"movieid\"]= df[\"movieid\"].str.replace(r\":\",\"\")\n",
    "    df[\"movieid\"]=df[\"movieid\"].astype(int)\n",
    "    return df"
   ]
  },
  {
   "cell_type": "raw",
   "id": "1b0d1c97",
   "metadata": {},
   "source": [
    "parse_file(\"mv_0000001.txt\").info()"
   ]
  },
  {
   "cell_type": "raw",
   "id": "b35aeb50",
   "metadata": {
    "collapsed": true
   },
   "source": [
    "os.listdir(\"../data/netflix_data/training_set\")"
   ]
  },
  {
   "cell_type": "markdown",
   "id": "22f336be",
   "metadata": {},
   "source": [
    "### Creating and checking a test version of concatinated rating files"
   ]
  },
  {
   "cell_type": "raw",
   "id": "1b1766c9",
   "metadata": {},
   "source": [
    "with open(\"../data/ratings_small.csv\", mode=\"w\", newline='') as file:\n",
    "    for filename in tqdm(os.listdir(\"../data/netflix_data/training_set\")[0:6]):\n",
    "        if 'mv' in filename:\n",
    "            df = parse_file(filename)\n",
    "            df.to_csv(file, index=False, header=False)\n"
   ]
  },
  {
   "cell_type": "code",
   "execution_count": 9,
   "id": "58fa6ec0",
   "metadata": {},
   "outputs": [],
   "source": [
    "df_s= pd.read_csv(\"../data/ratings_small.csv\", names=[\"customerid\",\"rating\",\"date\", \"movieid\"])"
   ]
  },
  {
   "cell_type": "code",
   "execution_count": 10,
   "id": "79d07bef",
   "metadata": {},
   "outputs": [],
   "source": [
    "df_s[\"date\"] = pd.to_datetime(df_s[\"date\"], format = \"%Y-%m-%d\")"
   ]
  },
  {
   "cell_type": "code",
   "execution_count": 11,
   "id": "c6e16495",
   "metadata": {},
   "outputs": [
    {
     "name": "stdout",
     "output_type": "stream",
     "text": [
      "<class 'pandas.core.frame.DataFrame'>\n",
      "RangeIndex: 5005 entries, 0 to 5004\n",
      "Data columns (total 4 columns):\n",
      " #   Column      Non-Null Count  Dtype         \n",
      "---  ------      --------------  -----         \n",
      " 0   customerid  5005 non-null   int64         \n",
      " 1   rating      5005 non-null   float64       \n",
      " 2   date        5005 non-null   datetime64[ns]\n",
      " 3   movieid     5005 non-null   int64         \n",
      "dtypes: datetime64[ns](1), float64(1), int64(2)\n",
      "memory usage: 156.5 KB\n"
     ]
    }
   ],
   "source": [
    "df_s.info()"
   ]
  },
  {
   "cell_type": "markdown",
   "id": "df7a4666",
   "metadata": {},
   "source": [
    "### Creating the large file containing all the ratings"
   ]
  },
  {
   "cell_type": "raw",
   "id": "94a40754",
   "metadata": {},
   "source": [
    "with open(\"../data/ratings.csv\", mode=\"w\", newline='') as file:\n",
    "    for filename in tqdm(os.listdir(\"../data/netflix_data/training_set\")):\n",
    "        if 'mv' in filename:\n",
    "            df = parse_file(filename)\n",
    "            df.to_csv(file, index=False, header=False)"
   ]
  },
  {
   "cell_type": "markdown",
   "id": "4538362e",
   "metadata": {},
   "source": [
    "### Reading and transforming the Qualify  file to add the Machine Learing results"
   ]
  },
  {
   "cell_type": "raw",
   "id": "b6973df4",
   "metadata": {},
   "source": [
    "qualify= pd.read_csv(\"../data/netflix_data/qualifying.txt\", names = [ \"customerid\", \"date\"])"
   ]
  },
  {
   "cell_type": "raw",
   "id": "2e3b23bd",
   "metadata": {},
   "source": [
    "q= qualify[qualify[\"date\"].isnull() ]"
   ]
  },
  {
   "cell_type": "raw",
   "id": "123ed690",
   "metadata": {},
   "source": [
    "q[\"index\"]= q.index"
   ]
  },
  {
   "cell_type": "raw",
   "id": "b1821bf0",
   "metadata": {},
   "source": [
    "q[\"customerid\"]= q[\"customerid\"].str.replace(r\":\",\"\")"
   ]
  },
  {
   "cell_type": "raw",
   "id": "ebf68965",
   "metadata": {},
   "source": [
    "q[\"customerid\"].astype(int)"
   ]
  },
  {
   "cell_type": "raw",
   "id": "58d6d427",
   "metadata": {},
   "source": [
    "t = []\n",
    "\n",
    "for i in tqdm(range(len(qualify))):\n",
    "    x = q[q['index'] <= i].iloc[-1]['customerid']\n",
    "#     c= x.['customerid']\n",
    "    t.append(x)\n",
    "\n",
    "print(t)\n",
    "# [1,1,1,1,1,1,1,1,1,1, 10, 10, 10, ...., ]\n",
    "\n",
    "# q['movieid'] = t"
   ]
  },
  {
   "cell_type": "raw",
   "id": "90289d98",
   "metadata": {},
   "source": [
    "qualify['movieid'] = t"
   ]
  },
  {
   "cell_type": "raw",
   "id": "ab3c5e73",
   "metadata": {},
   "source": [
    "qualify.tail(20)"
   ]
  },
  {
   "cell_type": "raw",
   "id": "1276f843",
   "metadata": {},
   "source": [
    "qualify.dropna(inplace= True)"
   ]
  },
  {
   "cell_type": "raw",
   "id": "9e442159",
   "metadata": {},
   "source": [
    "qualify.to_csv(\"../data/qualify.csv\", index =False)"
   ]
  },
  {
   "cell_type": "markdown",
   "id": "6679bd75",
   "metadata": {},
   "source": [
    "### Reading the cleaned qualify file "
   ]
  },
  {
   "cell_type": "code",
   "execution_count": 34,
   "id": "1baf0854",
   "metadata": {},
   "outputs": [],
   "source": [
    "qualifier= pd.read_csv(\"../data/qualify.csv\")"
   ]
  },
  {
   "cell_type": "code",
   "execution_count": 35,
   "id": "9967cb0c",
   "metadata": {},
   "outputs": [
    {
     "data": {
      "text/html": [
       "<div>\n",
       "<style scoped>\n",
       "    .dataframe tbody tr th:only-of-type {\n",
       "        vertical-align: middle;\n",
       "    }\n",
       "\n",
       "    .dataframe tbody tr th {\n",
       "        vertical-align: top;\n",
       "    }\n",
       "\n",
       "    .dataframe thead th {\n",
       "        text-align: right;\n",
       "    }\n",
       "</style>\n",
       "<table border=\"1\" class=\"dataframe\">\n",
       "  <thead>\n",
       "    <tr style=\"text-align: right;\">\n",
       "      <th></th>\n",
       "      <th>customerid</th>\n",
       "      <th>date</th>\n",
       "      <th>movieid</th>\n",
       "    </tr>\n",
       "  </thead>\n",
       "  <tbody>\n",
       "    <tr>\n",
       "      <th>0</th>\n",
       "      <td>1046323</td>\n",
       "      <td>2005-12-19</td>\n",
       "      <td>1</td>\n",
       "    </tr>\n",
       "    <tr>\n",
       "      <th>1</th>\n",
       "      <td>1080030</td>\n",
       "      <td>2005-12-23</td>\n",
       "      <td>1</td>\n",
       "    </tr>\n",
       "    <tr>\n",
       "      <th>2</th>\n",
       "      <td>1830096</td>\n",
       "      <td>2005-03-14</td>\n",
       "      <td>1</td>\n",
       "    </tr>\n",
       "    <tr>\n",
       "      <th>3</th>\n",
       "      <td>368059</td>\n",
       "      <td>2005-05-26</td>\n",
       "      <td>1</td>\n",
       "    </tr>\n",
       "    <tr>\n",
       "      <th>4</th>\n",
       "      <td>802003</td>\n",
       "      <td>2005-11-07</td>\n",
       "      <td>1</td>\n",
       "    </tr>\n",
       "    <tr>\n",
       "      <th>...</th>\n",
       "      <td>...</td>\n",
       "      <td>...</td>\n",
       "      <td>...</td>\n",
       "    </tr>\n",
       "    <tr>\n",
       "      <th>2817126</th>\n",
       "      <td>1521720</td>\n",
       "      <td>2005-12-07</td>\n",
       "      <td>9998</td>\n",
       "    </tr>\n",
       "    <tr>\n",
       "      <th>2817127</th>\n",
       "      <td>1363704</td>\n",
       "      <td>2005-10-01</td>\n",
       "      <td>9998</td>\n",
       "    </tr>\n",
       "    <tr>\n",
       "      <th>2817128</th>\n",
       "      <td>2153561</td>\n",
       "      <td>2005-11-15</td>\n",
       "      <td>9999</td>\n",
       "    </tr>\n",
       "    <tr>\n",
       "      <th>2817129</th>\n",
       "      <td>1490137</td>\n",
       "      <td>2005-12-22</td>\n",
       "      <td>9999</td>\n",
       "    </tr>\n",
       "    <tr>\n",
       "      <th>2817130</th>\n",
       "      <td>2268620</td>\n",
       "      <td>2005-11-17</td>\n",
       "      <td>9999</td>\n",
       "    </tr>\n",
       "  </tbody>\n",
       "</table>\n",
       "<p>2817131 rows × 3 columns</p>\n",
       "</div>"
      ],
      "text/plain": [
       "         customerid        date  movieid\n",
       "0           1046323  2005-12-19        1\n",
       "1           1080030  2005-12-23        1\n",
       "2           1830096  2005-03-14        1\n",
       "3            368059  2005-05-26        1\n",
       "4            802003  2005-11-07        1\n",
       "...             ...         ...      ...\n",
       "2817126     1521720  2005-12-07     9998\n",
       "2817127     1363704  2005-10-01     9998\n",
       "2817128     2153561  2005-11-15     9999\n",
       "2817129     1490137  2005-12-22     9999\n",
       "2817130     2268620  2005-11-17     9999\n",
       "\n",
       "[2817131 rows x 3 columns]"
      ]
     },
     "execution_count": 35,
     "metadata": {},
     "output_type": "execute_result"
    }
   ],
   "source": [
    "qualifier"
   ]
  },
  {
   "cell_type": "markdown",
   "id": "b0020565",
   "metadata": {},
   "source": [
    "### Cleaning the probe file to compare the results of qualify dataset created with help of machine learning Algorithms"
   ]
  },
  {
   "cell_type": "raw",
   "id": "5262a6f0",
   "metadata": {},
   "source": [
    "probe= pd.read_csv(\"../data/netflix_data/probe.txt\", names = [ \"customerid\"])"
   ]
  },
  {
   "cell_type": "raw",
   "id": "ac7309c1",
   "metadata": {},
   "source": [
    "p= probe[probe[\"customerid\"].str.contains(\":\")]"
   ]
  },
  {
   "cell_type": "raw",
   "id": "85ec72bf",
   "metadata": {},
   "source": [
    "p[\"index\"]= p.index"
   ]
  },
  {
   "cell_type": "raw",
   "id": "713d99bf",
   "metadata": {},
   "source": [
    "p[\"customerid\"]= p[\"customerid\"].str.replace(r\":\",\"\")"
   ]
  },
  {
   "cell_type": "raw",
   "id": "ce9b47e9",
   "metadata": {},
   "source": [
    "p[\"customerid\"]= p[\"customerid\"].astype(int)"
   ]
  },
  {
   "cell_type": "raw",
   "id": "1b2a5ce5",
   "metadata": {},
   "source": [
    "s = []\n",
    "\n",
    "for i in tqdm(range(len(probe))):\n",
    "    y = p[p['index'] <= i].iloc[-1]['customerid']\n",
    "    s.append(y)\n",
    "\n",
    "probe['movieid'] = s"
   ]
  },
  {
   "cell_type": "raw",
   "id": "3419e306",
   "metadata": {},
   "source": [
    "probe = probe[probe[\"customerid\"].str.contains(\":\")== False]"
   ]
  },
  {
   "cell_type": "raw",
   "id": "5cd2efb5",
   "metadata": {},
   "source": [
    "probe.to_csv (\"../data/probe.csv\", index =False)"
   ]
  },
  {
   "cell_type": "markdown",
   "id": "9fa4bbfd",
   "metadata": {},
   "source": [
    "### Reading the cleaned probe file"
   ]
  },
  {
   "cell_type": "code",
   "execution_count": 88,
   "id": "34a8004a",
   "metadata": {},
   "outputs": [],
   "source": [
    "probability = pd.read_csv(\"../data/probe.csv\")"
   ]
  },
  {
   "cell_type": "code",
   "execution_count": 89,
   "id": "050763cd",
   "metadata": {},
   "outputs": [
    {
     "data": {
      "text/html": [
       "<div>\n",
       "<style scoped>\n",
       "    .dataframe tbody tr th:only-of-type {\n",
       "        vertical-align: middle;\n",
       "    }\n",
       "\n",
       "    .dataframe tbody tr th {\n",
       "        vertical-align: top;\n",
       "    }\n",
       "\n",
       "    .dataframe thead th {\n",
       "        text-align: right;\n",
       "    }\n",
       "</style>\n",
       "<table border=\"1\" class=\"dataframe\">\n",
       "  <thead>\n",
       "    <tr style=\"text-align: right;\">\n",
       "      <th></th>\n",
       "      <th>customerid</th>\n",
       "      <th>movieid</th>\n",
       "    </tr>\n",
       "  </thead>\n",
       "  <tbody>\n",
       "    <tr>\n",
       "      <th>0</th>\n",
       "      <td>30878</td>\n",
       "      <td>1</td>\n",
       "    </tr>\n",
       "    <tr>\n",
       "      <th>1</th>\n",
       "      <td>2647871</td>\n",
       "      <td>1</td>\n",
       "    </tr>\n",
       "    <tr>\n",
       "      <th>2</th>\n",
       "      <td>1283744</td>\n",
       "      <td>1</td>\n",
       "    </tr>\n",
       "    <tr>\n",
       "      <th>3</th>\n",
       "      <td>2488120</td>\n",
       "      <td>1</td>\n",
       "    </tr>\n",
       "    <tr>\n",
       "      <th>4</th>\n",
       "      <td>317050</td>\n",
       "      <td>1</td>\n",
       "    </tr>\n",
       "    <tr>\n",
       "      <th>...</th>\n",
       "      <td>...</td>\n",
       "      <td>...</td>\n",
       "    </tr>\n",
       "    <tr>\n",
       "      <th>1408390</th>\n",
       "      <td>2328701</td>\n",
       "      <td>9997</td>\n",
       "    </tr>\n",
       "    <tr>\n",
       "      <th>1408391</th>\n",
       "      <td>1288730</td>\n",
       "      <td>9998</td>\n",
       "    </tr>\n",
       "    <tr>\n",
       "      <th>1408392</th>\n",
       "      <td>2536567</td>\n",
       "      <td>9998</td>\n",
       "    </tr>\n",
       "    <tr>\n",
       "      <th>1408393</th>\n",
       "      <td>1107317</td>\n",
       "      <td>9998</td>\n",
       "    </tr>\n",
       "    <tr>\n",
       "      <th>1408394</th>\n",
       "      <td>1473765</td>\n",
       "      <td>9999</td>\n",
       "    </tr>\n",
       "  </tbody>\n",
       "</table>\n",
       "<p>1408395 rows × 2 columns</p>\n",
       "</div>"
      ],
      "text/plain": [
       "         customerid  movieid\n",
       "0             30878        1\n",
       "1           2647871        1\n",
       "2           1283744        1\n",
       "3           2488120        1\n",
       "4            317050        1\n",
       "...             ...      ...\n",
       "1408390     2328701     9997\n",
       "1408391     1288730     9998\n",
       "1408392     2536567     9998\n",
       "1408393     1107317     9998\n",
       "1408394     1473765     9999\n",
       "\n",
       "[1408395 rows x 2 columns]"
      ]
     },
     "execution_count": 89,
     "metadata": {},
     "output_type": "execute_result"
    }
   ],
   "source": [
    "probability"
   ]
  },
  {
   "cell_type": "markdown",
   "id": "ea6eeccb",
   "metadata": {},
   "source": [
    "## NEXT TASKS"
   ]
  },
  {
   "cell_type": "markdown",
   "id": "4bfd42c7",
   "metadata": {},
   "source": [
    "#### maybe create some visualisations to check the data distribution "
   ]
  },
  {
   "cell_type": "markdown",
   "id": "4261a190",
   "metadata": {},
   "source": [
    "#### Filter the data to create a better machine learning program"
   ]
  },
  {
   "cell_type": "markdown",
   "id": "9e1ea13c",
   "metadata": {},
   "source": [
    "#### Decide a Machine learning technique"
   ]
  },
  {
   "cell_type": "markdown",
   "id": "1ee18574",
   "metadata": {},
   "source": [
    "#### Test the algorithm"
   ]
  },
  {
   "cell_type": "markdown",
   "id": "87141cc4",
   "metadata": {},
   "source": [
    "#### Add ratings in Qualify dataset and compare with probe to check the accuracy"
   ]
  },
  {
   "cell_type": "markdown",
   "id": "11e3bb3b",
   "metadata": {},
   "source": [
    "#### Create a Predictor system which takes 3 inputs from user and provides list of related movies "
   ]
  },
  {
   "cell_type": "markdown",
   "id": "bd2820c1",
   "metadata": {},
   "source": [
    "### Create a GUI using Streamlit"
   ]
  },
  {
   "cell_type": "code",
   "execution_count": null,
   "id": "ed299b7c",
   "metadata": {},
   "outputs": [],
   "source": []
  }
 ],
 "metadata": {
  "kernelspec": {
   "display_name": "Python 3 (ipykernel)",
   "language": "python",
   "name": "python3"
  },
  "language_info": {
   "codemirror_mode": {
    "name": "ipython",
    "version": 3
   },
   "file_extension": ".py",
   "mimetype": "text/x-python",
   "name": "python",
   "nbconvert_exporter": "python",
   "pygments_lexer": "ipython3",
   "version": "3.9.12"
  }
 },
 "nbformat": 4,
 "nbformat_minor": 5
}
