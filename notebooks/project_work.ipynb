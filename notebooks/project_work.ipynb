{
 "cells": [
  {
   "cell_type": "markdown",
   "id": "acac083c",
   "metadata": {},
   "source": [
    "### Importing all the important Libraries"
   ]
  },
  {
   "cell_type": "code",
   "execution_count": 2,
   "id": "4323431b",
   "metadata": {},
   "outputs": [],
   "source": [
    "import pandas as pd\n",
    "import numpy as np\n",
    "import seaborn as sns\n",
    "import matplotlib.pyplot as plt\n",
    "from tqdm import tqdm\n",
    "from dotenv import dotenv_values\n",
    "from sqlalchemy import create_engine\n",
    "import sklearn\n",
    "from sklearn.neighbors import NearestNeighbors\n",
    "from sklearn.preprocessing import StandardScaler\n",
    "from sklearn.model_selection import train_test_split\n",
    "from sklearn.neighbors import KNeighborsClassifier\n",
    "from sklearn.metrics import pairwise\n",
    "from sklearn.metrics import accuracy_score\n",
    "import statsmodels.formula.api as sm\n",
    "from scipy.sparse import csr_matrix\n",
    "import os\n",
    "import streamlit as sl"
   ]
  },
  {
   "cell_type": "raw",
   "id": "a76062fa",
   "metadata": {},
   "source": [
    "!pip install streamlit"
   ]
  },
  {
   "cell_type": "markdown",
   "id": "c0e81113",
   "metadata": {},
   "source": [
    "### Reading different datasets "
   ]
  },
  {
   "cell_type": "raw",
   "id": "f92cb9cf",
   "metadata": {},
   "source": [
    "df = pd.read_csv(\"../data/netflix_titles.csv\")"
   ]
  },
  {
   "cell_type": "raw",
   "id": "179bce42",
   "metadata": {},
   "source": [
    "df.head()"
   ]
  },
  {
   "cell_type": "raw",
   "id": "1501b3f4",
   "metadata": {},
   "source": [
    "movies = df[df[\"type\"]== \"Movie\"]"
   ]
  },
  {
   "cell_type": "raw",
   "id": "e9ac82be",
   "metadata": {},
   "source": [
    "movies.info()"
   ]
  },
  {
   "cell_type": "raw",
   "id": "1ae066ea",
   "metadata": {},
   "source": [
    "movies.to_csv (\"../data/mv.csv\", index =False)"
   ]
  },
  {
   "cell_type": "raw",
   "id": "6e44277b",
   "metadata": {},
   "source": [
    "tv = df[df[\"type\"]== \"TV Show\"]"
   ]
  },
  {
   "cell_type": "raw",
   "id": "86ef5e33",
   "metadata": {},
   "source": [
    "tv.to_csv (\"../data/tv.csv\", index =False)"
   ]
  },
  {
   "cell_type": "markdown",
   "id": "8d59cb3f",
   "metadata": {},
   "source": [
    "### Filtering Movie titles"
   ]
  },
  {
   "cell_type": "raw",
   "id": "b6b3d0bf",
   "metadata": {},
   "source": [
    "n = pd.read_csv(\"../data/movie_titles.csv\", encoding = \"unicode_escape\" ,names= [\"movieid\",\"year\",\"title\"])"
   ]
  },
  {
   "cell_type": "raw",
   "id": "198898e5",
   "metadata": {},
   "source": [
    "n.head()"
   ]
  },
  {
   "cell_type": "raw",
   "id": "c66cb714",
   "metadata": {},
   "source": [
    "n.info()"
   ]
  },
  {
   "cell_type": "raw",
   "id": "d53c8776",
   "metadata": {},
   "source": [
    "n.fillna(value=0, inplace= True)"
   ]
  },
  {
   "cell_type": "raw",
   "id": "939db894",
   "metadata": {},
   "source": [
    "n.info()"
   ]
  },
  {
   "cell_type": "raw",
   "id": "4adede0f",
   "metadata": {},
   "source": [
    "n[\"year\"]= n[\"year\"].astype(int)"
   ]
  },
  {
   "cell_type": "raw",
   "id": "295c49b4",
   "metadata": {},
   "source": [
    "n.head()"
   ]
  },
  {
   "cell_type": "raw",
   "id": "8188fd94",
   "metadata": {},
   "source": [
    "n.to_csv (\"../data/movie_sorted.csv\", index =False)"
   ]
  },
  {
   "cell_type": "markdown",
   "id": "3781e3ca",
   "metadata": {},
   "source": [
    "### Reading sorted Data"
   ]
  },
  {
   "cell_type": "code",
   "execution_count": null,
   "id": "aafe7e10",
   "metadata": {},
   "outputs": [],
   "source": [
    "n= pd.read_csv(\"../data/movie_sorted.csv\")"
   ]
  },
  {
   "cell_type": "code",
   "execution_count": null,
   "id": "7f0c6ded",
   "metadata": {},
   "outputs": [],
   "source": [
    "n.tail()"
   ]
  },
  {
   "cell_type": "markdown",
   "id": "5dbeccb6",
   "metadata": {},
   "source": [
    "### Reading the rating files for movieid 1 and cleaning the file "
   ]
  },
  {
   "cell_type": "code",
   "execution_count": null,
   "id": "b02b678a",
   "metadata": {},
   "outputs": [],
   "source": [
    "df = pd.read_csv(\"../data/mv_0000001.txt\", names=[\"customerid\",\"rating\",\"date\"] )"
   ]
  },
  {
   "cell_type": "code",
   "execution_count": null,
   "id": "8e78693d",
   "metadata": {},
   "outputs": [],
   "source": [
    "df.head()"
   ]
  },
  {
   "cell_type": "raw",
   "id": "132c0854",
   "metadata": {},
   "source": [
    "df[\"date\"] = pd.to_datetime(df[\"date\"], format = \"%Y-%m-%d\")"
   ]
  },
  {
   "cell_type": "raw",
   "id": "9929766e",
   "metadata": {},
   "source": [
    "df.iloc[:1 , :1]"
   ]
  },
  {
   "cell_type": "raw",
   "id": "b68f8c87",
   "metadata": {},
   "source": [
    "df= df.assign(movieid = df.iloc[:1 , :1])"
   ]
  },
  {
   "cell_type": "raw",
   "id": "591f24db",
   "metadata": {},
   "source": [
    "df[\"movieid\"].fillna(method= \"ffill\", inplace= True)"
   ]
  },
  {
   "cell_type": "raw",
   "id": "4b5cce42",
   "metadata": {},
   "source": [
    "df = df.iloc[1:, :]"
   ]
  },
  {
   "cell_type": "raw",
   "id": "d5e7ebfd",
   "metadata": {},
   "source": [
    "df[\"movieid\"]= df[\"movieid\"].str.replace(r\":\",\"\")"
   ]
  },
  {
   "cell_type": "raw",
   "id": "7b53052d",
   "metadata": {},
   "source": [
    "df[\"movieid\"]=df[\"movieid\"].astype(int)"
   ]
  },
  {
   "cell_type": "raw",
   "id": "97a115e8",
   "metadata": {},
   "source": [
    "df.to_csv(\"../data/movieid1_rating.csv\", index =False)"
   ]
  },
  {
   "cell_type": "markdown",
   "id": "1d967460",
   "metadata": {},
   "source": [
    "### checking the first cleaned rating file "
   ]
  },
  {
   "cell_type": "code",
   "execution_count": null,
   "id": "a27cf341",
   "metadata": {},
   "outputs": [],
   "source": [
    "df= pd.read_csv(\"../data/movieid1_rating.csv\")"
   ]
  },
  {
   "cell_type": "code",
   "execution_count": null,
   "id": "c081dae1",
   "metadata": {},
   "outputs": [],
   "source": [
    "df.head()"
   ]
  },
  {
   "cell_type": "markdown",
   "id": "6a114d94",
   "metadata": {},
   "source": [
    "### Creating a function to read and clean all the rating files"
   ]
  },
  {
   "cell_type": "raw",
   "id": "62d6624a",
   "metadata": {},
   "source": [
    "def parse_file(filename):\n",
    "    df = pd.read_csv(f\"../data/netflix_data/training_set/{filename}\", names=[\"customerid\",\"rating\",\"date\"])\n",
    "    df[\"date\"] = pd.to_datetime(df[\"date\"], format = \"%Y-%m-%d\")\n",
    "    df= df.assign(movieid = df.iloc[:1 , :1])\n",
    "    df[\"movieid\"].fillna(method= \"ffill\", inplace= True)\n",
    "    df = df.iloc[1:, :]\n",
    "    df[\"movieid\"]= df[\"movieid\"].str.replace(r\":\",\"\")\n",
    "    df[\"movieid\"]=df[\"movieid\"].astype(int)\n",
    "    return df"
   ]
  },
  {
   "cell_type": "raw",
   "id": "1b0d1c97",
   "metadata": {},
   "source": [
    "parse_file(\"mv_0000001.txt\").info()"
   ]
  },
  {
   "cell_type": "raw",
   "id": "e0405432",
   "metadata": {
    "collapsed": true
   },
   "source": [
    "os.listdir(\"../data/netflix_data/training_set\")"
   ]
  },
  {
   "cell_type": "markdown",
   "id": "3a2ccb59",
   "metadata": {},
   "source": [
    "### Creating and checking a test version of concatinated rating files"
   ]
  },
  {
   "cell_type": "raw",
   "id": "1b1766c9",
   "metadata": {},
   "source": [
    "with open(\"../data/ratings_small.csv\", mode=\"w\", newline='') as file:\n",
    "    for filename in tqdm(os.listdir(\"../data/netflix_data/training_set\")[0:6]):\n",
    "        if 'mv' in filename:\n",
    "            df = parse_file(filename)\n",
    "            df.to_csv(file, index=False, header=False)\n"
   ]
  },
  {
   "cell_type": "code",
   "execution_count": null,
   "id": "58fa6ec0",
   "metadata": {},
   "outputs": [],
   "source": [
    "df_s= pd.read_csv(\"../data/ratings_small.csv\", names=[\"customerid\",\"rating\",\"date\", \"movieid\"])"
   ]
  },
  {
   "cell_type": "code",
   "execution_count": null,
   "id": "79d07bef",
   "metadata": {},
   "outputs": [],
   "source": [
    "df_s[\"date\"] = pd.to_datetime(df_s[\"date\"], format = \"%Y-%m-%d\")"
   ]
  },
  {
   "cell_type": "code",
   "execution_count": null,
   "id": "c6e16495",
   "metadata": {},
   "outputs": [],
   "source": [
    "df_s.info()"
   ]
  },
  {
   "cell_type": "markdown",
   "id": "c464a2e6",
   "metadata": {},
   "source": [
    "### Creating the large file containing all the ratings"
   ]
  },
  {
   "cell_type": "raw",
   "id": "94a40754",
   "metadata": {},
   "source": [
    "with open(\"../data/ratings.csv\", mode=\"w\", newline='') as file:\n",
    "    for filename in tqdm(os.listdir(\"../data/netflix_data/training_set\")):\n",
    "        if 'mv' in filename:\n",
    "            df = parse_file(filename)\n",
    "            df.to_csv(file, index=False, header=False)"
   ]
  },
  {
   "cell_type": "markdown",
   "id": "53461f2e",
   "metadata": {},
   "source": [
    "### Reading and transforming the Qualify  file to add the Machine Learing results"
   ]
  },
  {
   "cell_type": "raw",
   "id": "5e8c779d",
   "metadata": {},
   "source": [
    "qualify= pd.read_csv(\"../data/netflix_data/qualifying.txt\", names = [ \"customerid\", \"date\"])"
   ]
  },
  {
   "cell_type": "raw",
   "id": "cf14e98d",
   "metadata": {},
   "source": [
    "q= qualify[qualify[\"date\"].isnull() ]"
   ]
  },
  {
   "cell_type": "raw",
   "id": "ec80de5e",
   "metadata": {},
   "source": [
    "q[\"index\"]= q.index"
   ]
  },
  {
   "cell_type": "raw",
   "id": "2334e35c",
   "metadata": {},
   "source": [
    "q[\"customerid\"]= q[\"customerid\"].str.replace(r\":\",\"\")"
   ]
  },
  {
   "cell_type": "raw",
   "id": "9d78db6c",
   "metadata": {},
   "source": [
    "q[\"customerid\"].astype(int)"
   ]
  },
  {
   "cell_type": "raw",
   "id": "ab7d99e7",
   "metadata": {},
   "source": [
    "t = []\n",
    "\n",
    "for i in tqdm(range(len(qualify))):\n",
    "    x = q[q['index'] <= i].iloc[-1]['customerid']\n",
    "#     c= x.['customerid']\n",
    "    t.append(x)\n",
    "\n",
    "print(t)\n",
    "# [1,1,1,1,1,1,1,1,1,1, 10, 10, 10, ...., ]\n",
    "\n",
    "# q['movieid'] = t"
   ]
  },
  {
   "cell_type": "raw",
   "id": "d73006f2",
   "metadata": {},
   "source": [
    "qualify['movieid'] = t"
   ]
  },
  {
   "cell_type": "raw",
   "id": "a2203725",
   "metadata": {},
   "source": [
    "qualify.tail(20)"
   ]
  },
  {
   "cell_type": "raw",
   "id": "3621a1d4",
   "metadata": {},
   "source": [
    "qualify.dropna(inplace= True)"
   ]
  },
  {
   "cell_type": "raw",
   "id": "6e382c8c",
   "metadata": {},
   "source": [
    "qualify.to_csv(\"../data/qualify.csv\", index =False)"
   ]
  },
  {
   "cell_type": "markdown",
   "id": "09a5669b",
   "metadata": {},
   "source": [
    "### Reading the cleaned qualify file "
   ]
  },
  {
   "cell_type": "code",
   "execution_count": null,
   "id": "005f8565",
   "metadata": {},
   "outputs": [],
   "source": [
    "qualifier= pd.read_csv(\"../data/qualify.csv\")"
   ]
  },
  {
   "cell_type": "code",
   "execution_count": null,
   "id": "e75e92a3",
   "metadata": {},
   "outputs": [],
   "source": [
    "qualifier"
   ]
  },
  {
   "cell_type": "markdown",
   "id": "465f0d12",
   "metadata": {},
   "source": [
    "### Cleaning the probe file to compare the results of qualify dataset created with help of machine learning Algorithms"
   ]
  },
  {
   "cell_type": "raw",
   "id": "f1aaeb77",
   "metadata": {},
   "source": [
    "probe= pd.read_csv(\"../data/netflix_data/probe.txt\", names = [ \"customerid\"])"
   ]
  },
  {
   "cell_type": "raw",
   "id": "22b9027b",
   "metadata": {},
   "source": [
    "p= probe[probe[\"customerid\"].str.contains(\":\")]"
   ]
  },
  {
   "cell_type": "raw",
   "id": "05ac57ee",
   "metadata": {},
   "source": [
    "p[\"index\"]= p.index"
   ]
  },
  {
   "cell_type": "raw",
   "id": "99dee891",
   "metadata": {},
   "source": [
    "p[\"customerid\"]= p[\"customerid\"].str.replace(r\":\",\"\")"
   ]
  },
  {
   "cell_type": "raw",
   "id": "b21a0a70",
   "metadata": {},
   "source": [
    "p[\"customerid\"]= p[\"customerid\"].astype(int)"
   ]
  },
  {
   "cell_type": "raw",
   "id": "77874e74",
   "metadata": {},
   "source": [
    "s = []\n",
    "\n",
    "for i in tqdm(range(len(probe))):\n",
    "    y = p[p['index'] <= i].iloc[-1]['customerid']\n",
    "    s.append(y)\n",
    "\n",
    "probe['movieid'] = s"
   ]
  },
  {
   "cell_type": "raw",
   "id": "2c0d9bd0",
   "metadata": {},
   "source": [
    "probe = probe[probe[\"customerid\"].str.contains(\":\")== False]"
   ]
  },
  {
   "cell_type": "raw",
   "id": "70645d37",
   "metadata": {},
   "source": [
    "probe.to_csv (\"../data/probe.csv\", index =False)"
   ]
  },
  {
   "cell_type": "markdown",
   "id": "998bd09f",
   "metadata": {},
   "source": [
    "### Reading the cleaned probe file"
   ]
  },
  {
   "cell_type": "code",
   "execution_count": null,
   "id": "565577b1",
   "metadata": {},
   "outputs": [],
   "source": [
    "probability = pd.read_csv(\"../data/probe.csv\")"
   ]
  },
  {
   "cell_type": "code",
   "execution_count": null,
   "id": "39d86a3c",
   "metadata": {},
   "outputs": [],
   "source": [
    "probability"
   ]
  },
  {
   "cell_type": "markdown",
   "id": "efe315b1",
   "metadata": {},
   "source": [
    "## NEXT TASKS"
   ]
  },
  {
   "cell_type": "markdown",
   "id": "4e474ae6",
   "metadata": {},
   "source": [
    "#### Filter the data to create a better machine learning program"
   ]
  },
  {
   "cell_type": "code",
   "execution_count": null,
   "id": "32c69461",
   "metadata": {},
   "outputs": [],
   "source": [
    "small= pd.read_csv(\"../data/ratings_small.csv\" )\n",
    "small.head()"
   ]
  },
  {
   "cell_type": "code",
   "execution_count": 3,
   "id": "19d51ed1",
   "metadata": {
    "scrolled": true
   },
   "outputs": [
    {
     "name": "stdout",
     "output_type": "stream",
     "text": [
      "<class 'pandas.core.frame.DataFrame'>\n",
      "RangeIndex: 17770 entries, 0 to 17769\n",
      "Data columns (total 3 columns):\n",
      " #   Column   Non-Null Count  Dtype \n",
      "---  ------   --------------  ----- \n",
      " 0   movieid  17770 non-null  int64 \n",
      " 1   year     17770 non-null  int64 \n",
      " 2   title    17770 non-null  object\n",
      "dtypes: int64(2), object(1)\n",
      "memory usage: 416.6+ KB\n"
     ]
    }
   ],
   "source": [
    "movies = pd.read_csv(\"../data/movie_sorted.csv\")\n",
    "movies.info()"
   ]
  },
  {
   "cell_type": "code",
   "execution_count": 4,
   "id": "91653c5d",
   "metadata": {},
   "outputs": [
    {
     "data": {
      "text/html": [
       "<div>\n",
       "<style scoped>\n",
       "    .dataframe tbody tr th:only-of-type {\n",
       "        vertical-align: middle;\n",
       "    }\n",
       "\n",
       "    .dataframe tbody tr th {\n",
       "        vertical-align: top;\n",
       "    }\n",
       "\n",
       "    .dataframe thead th {\n",
       "        text-align: right;\n",
       "    }\n",
       "</style>\n",
       "<table border=\"1\" class=\"dataframe\">\n",
       "  <thead>\n",
       "    <tr style=\"text-align: right;\">\n",
       "      <th></th>\n",
       "      <th>customerid</th>\n",
       "      <th>rating</th>\n",
       "      <th>movieid</th>\n",
       "      <th>title</th>\n",
       "    </tr>\n",
       "  </thead>\n",
       "  <tbody>\n",
       "    <tr>\n",
       "      <th>0</th>\n",
       "      <td>2407893</td>\n",
       "      <td>4.0</td>\n",
       "      <td>6974</td>\n",
       "      <td>The Usual Suspects</td>\n",
       "    </tr>\n",
       "    <tr>\n",
       "      <th>1</th>\n",
       "      <td>1673319</td>\n",
       "      <td>5.0</td>\n",
       "      <td>6974</td>\n",
       "      <td>The Usual Suspects</td>\n",
       "    </tr>\n",
       "    <tr>\n",
       "      <th>2</th>\n",
       "      <td>602</td>\n",
       "      <td>5.0</td>\n",
       "      <td>6974</td>\n",
       "      <td>The Usual Suspects</td>\n",
       "    </tr>\n",
       "    <tr>\n",
       "      <th>3</th>\n",
       "      <td>2604811</td>\n",
       "      <td>4.0</td>\n",
       "      <td>6974</td>\n",
       "      <td>The Usual Suspects</td>\n",
       "    </tr>\n",
       "    <tr>\n",
       "      <th>4</th>\n",
       "      <td>1329723</td>\n",
       "      <td>5.0</td>\n",
       "      <td>6974</td>\n",
       "      <td>The Usual Suspects</td>\n",
       "    </tr>\n",
       "  </tbody>\n",
       "</table>\n",
       "</div>"
      ],
      "text/plain": [
       "   customerid  rating  movieid               title\n",
       "0     2407893     4.0     6974  The Usual Suspects\n",
       "1     1673319     5.0     6974  The Usual Suspects\n",
       "2         602     5.0     6974  The Usual Suspects\n",
       "3     2604811     4.0     6974  The Usual Suspects\n",
       "4     1329723     5.0     6974  The Usual Suspects"
      ]
     },
     "execution_count": 4,
     "metadata": {},
     "output_type": "execute_result"
    }
   ],
   "source": [
    "ratings = pd.read_csv(\"../../thymestamps-working-folder/data/filtered-ratings.csv\")\n",
    "ratings.head()"
   ]
  },
  {
   "cell_type": "code",
   "execution_count": null,
   "id": "ee4c3647",
   "metadata": {},
   "outputs": [],
   "source": [
    "ratings.info()"
   ]
  },
  {
   "cell_type": "code",
   "execution_count": 5,
   "id": "57124704",
   "metadata": {},
   "outputs": [
    {
     "data": {
      "text/plain": [
       "1905     120787\n",
       "11283    113216\n",
       "15124    113000\n",
       "15107    109851\n",
       "5317     108621\n",
       "          ...  \n",
       "14021      1283\n",
       "17096      1234\n",
       "761        1230\n",
       "9044       1219\n",
       "11819      1165\n",
       "Name: movieid, Length: 5264, dtype: int64"
      ]
     },
     "execution_count": 5,
     "metadata": {},
     "output_type": "execute_result"
    }
   ],
   "source": [
    "ratings[\"movieid\"].value_counts()"
   ]
  },
  {
   "cell_type": "code",
   "execution_count": 6,
   "id": "407c639d",
   "metadata": {},
   "outputs": [
    {
     "data": {
      "text/plain": [
       "(150245, 5264, 17769)"
      ]
     },
     "execution_count": 6,
     "metadata": {},
     "output_type": "execute_result"
    }
   ],
   "source": [
    "ratings['customerid'].nunique(), ratings['movieid'].nunique(), ratings['movieid'].max()"
   ]
  },
  {
   "cell_type": "code",
   "execution_count": 21,
   "id": "ce890746",
   "metadata": {},
   "outputs": [],
   "source": [
    "user = csr_matrix((ratings['rating'], (ratings['customerid'], ratings['movieid'])))"
   ]
  },
  {
   "cell_type": "markdown",
   "id": "a24a2e3e",
   "metadata": {},
   "source": [
    "#### like pivot_table but much more memory efficient"
   ]
  },
  {
   "cell_type": "code",
   "execution_count": 22,
   "id": "94188ac8",
   "metadata": {},
   "outputs": [
    {
     "data": {
      "text/plain": [
       "(2649430, 17770)"
      ]
     },
     "execution_count": 22,
     "metadata": {},
     "output_type": "execute_result"
    }
   ],
   "source": [
    "user.shape"
   ]
  },
  {
   "cell_type": "code",
   "execution_count": 23,
   "id": "9ecb0ec4",
   "metadata": {},
   "outputs": [
    {
     "data": {
      "text/plain": [
       "matrix([[0., 0., 0., ..., 0., 0., 0.]])"
      ]
     },
     "execution_count": 23,
     "metadata": {},
     "output_type": "execute_result"
    }
   ],
   "source": [
    "# customerid vector\n",
    "user[1,:].todense()"
   ]
  },
  {
   "cell_type": "code",
   "execution_count": 24,
   "id": "8e80e85a",
   "metadata": {},
   "outputs": [
    {
     "data": {
      "text/plain": [
       "(2649430, 1)"
      ]
     },
     "execution_count": 24,
     "metadata": {},
     "output_type": "execute_result"
    }
   ],
   "source": [
    "# movieid vector\n",
    "user[:,1].todense().shape"
   ]
  },
  {
   "cell_type": "raw",
   "id": "4b2bfe6b",
   "metadata": {},
   "source": [
    "UU = pairwise.euclidean_distances(user)\n",
    "print(UU.shape)"
   ]
  },
  {
   "cell_type": "raw",
   "id": "31d4ec6c",
   "metadata": {},
   "source": [
    "sns.heatmap(UU, cmap='coolwarm')"
   ]
  },
  {
   "cell_type": "code",
   "execution_count": 25,
   "id": "34374d37",
   "metadata": {},
   "outputs": [],
   "source": [
    "# collect the movie ids for later\n",
    "\n",
    "# for calculating recommendations\n",
    "liked_items = [12748,4979, 12785, 12918,13031,13313,16265,14240,14214]\n",
    "# for testing the recommender after getting some recommendations\n",
    "relevant_items = []"
   ]
  },
  {
   "cell_type": "markdown",
   "id": "ce47425d",
   "metadata": {},
   "source": [
    "### Deciding a Machine learning technique\n",
    "#### Neighborhood-based Collaborative Filtering( Nearest Neighbors)\n",
    "#### Neighborhood Components Analysis\n",
    "#### nearest neighbors classifier"
   ]
  },
  {
   "cell_type": "code",
   "execution_count": 26,
   "id": "37cea34f",
   "metadata": {},
   "outputs": [
    {
     "data": {
      "text/plain": [
       "['cityblock', 'cosine', 'euclidean', 'l1', 'l2', 'manhattan', 'precomputed']"
      ]
     },
     "execution_count": 26,
     "metadata": {},
     "output_type": "execute_result"
    }
   ],
   "source": [
    "# which metrics can we use\n",
    "sorted(sklearn.neighbors.VALID_METRICS_SPARSE['brute'])"
   ]
  },
  {
   "cell_type": "code",
   "execution_count": 27,
   "id": "714de73b",
   "metadata": {},
   "outputs": [],
   "source": [
    "# initialize the unsupervised model\n",
    "model = NearestNeighbors(metric='cosine')\n"
   ]
  },
  {
   "cell_type": "code",
   "execution_count": 28,
   "id": "44bb5e99",
   "metadata": {},
   "outputs": [
    {
     "data": {
      "text/plain": [
       "NearestNeighbors(metric='cosine')"
      ]
     },
     "execution_count": 28,
     "metadata": {},
     "output_type": "execute_result"
    }
   ],
   "source": [
    "# fit it to the user-item matrix\n",
    "model.fit(user)"
   ]
  },
  {
   "cell_type": "code",
   "execution_count": 29,
   "id": "cd48d947",
   "metadata": {},
   "outputs": [
    {
     "data": {
      "text/plain": [
       "(array([[1., 1., 1., 1., 1., 1., 1., 1., 1., 1., 1., 1., 1., 1., 1., 1.,\n",
       "         1., 1., 1., 1.]]),\n",
       " array([[1766282, 1766284, 1766285, 1766286, 1766287, 1766288, 1766289,\n",
       "         1766290, 1766291, 1766292, 1766293, 1766294, 1766295, 1766296,\n",
       "         1766297, 1766298, 1766299, 1766281, 1766283, 1766301]],\n",
       "       dtype=int64))"
      ]
     },
     "execution_count": 29,
     "metadata": {},
     "output_type": "execute_result"
    }
   ],
   "source": [
    "# top-10 most similar users for the user with the id 1 (id1 is included in the neighborhood!)\n",
    "model.kneighbors(user[1,:], n_neighbors=20)"
   ]
  },
  {
   "cell_type": "code",
   "execution_count": 30,
   "id": "d97766ee",
   "metadata": {},
   "outputs": [
    {
     "data": {
      "text/plain": [
       "(1, 17770)"
      ]
     },
     "execution_count": 30,
     "metadata": {},
     "output_type": "execute_result"
    }
   ],
   "source": [
    "user[1,:].shape"
   ]
  },
  {
   "cell_type": "code",
   "execution_count": 33,
   "id": "d69cb535",
   "metadata": {},
   "outputs": [
    {
     "data": {
      "text/plain": [
       "(17770,)"
      ]
     },
     "execution_count": 33,
     "metadata": {},
     "output_type": "execute_result"
    }
   ],
   "source": [
    "# new user vector\n",
    "user_vec = np.repeat(0, 17770)\n",
    "user_vec.shape\n",
    "\n",
    "# fill in some ratings\n",
    "user_vec[liked_items] = 5\n",
    "user_vec.shape"
   ]
  },
  {
   "cell_type": "code",
   "execution_count": 34,
   "id": "9dc776dd",
   "metadata": {},
   "outputs": [],
   "source": [
    "# find the neighborhood\n",
    "distances, user_ids = model.kneighbors([user_vec], n_neighbors=10)"
   ]
  },
  {
   "cell_type": "code",
   "execution_count": 35,
   "id": "3638571f",
   "metadata": {},
   "outputs": [
    {
     "data": {
      "text/plain": [
       "array([[2067162, 1962029,  801872, 1514115, 1131551, 2294599, 1584657,\n",
       "         238987, 2329643,  462165]], dtype=int64)"
      ]
     },
     "execution_count": 35,
     "metadata": {},
     "output_type": "execute_result"
    }
   ],
   "source": [
    "user_ids"
   ]
  },
  {
   "cell_type": "code",
   "execution_count": 37,
   "id": "3e3339bc",
   "metadata": {},
   "outputs": [
    {
     "data": {
      "text/html": [
       "<div>\n",
       "<style scoped>\n",
       "    .dataframe tbody tr th:only-of-type {\n",
       "        vertical-align: middle;\n",
       "    }\n",
       "\n",
       "    .dataframe tbody tr th {\n",
       "        vertical-align: top;\n",
       "    }\n",
       "\n",
       "    .dataframe thead th {\n",
       "        text-align: right;\n",
       "    }\n",
       "</style>\n",
       "<table border=\"1\" class=\"dataframe\">\n",
       "  <thead>\n",
       "    <tr style=\"text-align: right;\">\n",
       "      <th></th>\n",
       "      <th>rating</th>\n",
       "      <th>movieid</th>\n",
       "      <th>title</th>\n",
       "    </tr>\n",
       "    <tr>\n",
       "      <th>customerid</th>\n",
       "      <th></th>\n",
       "      <th></th>\n",
       "      <th></th>\n",
       "    </tr>\n",
       "  </thead>\n",
       "  <tbody>\n",
       "    <tr>\n",
       "      <th>2067162</th>\n",
       "      <td>5.0</td>\n",
       "      <td>7057</td>\n",
       "      <td>Lord of the Rings: The Two Towers: Extended Ed...</td>\n",
       "    </tr>\n",
       "    <tr>\n",
       "      <th>2067162</th>\n",
       "      <td>5.0</td>\n",
       "      <td>7145</td>\n",
       "      <td>Star Trek III: The Search for Spock</td>\n",
       "    </tr>\n",
       "    <tr>\n",
       "      <th>2067162</th>\n",
       "      <td>4.0</td>\n",
       "      <td>7193</td>\n",
       "      <td>The Princess Bride</td>\n",
       "    </tr>\n",
       "    <tr>\n",
       "      <th>2067162</th>\n",
       "      <td>5.0</td>\n",
       "      <td>7230</td>\n",
       "      <td>The Lord of the Rings: The Fellowship of the R...</td>\n",
       "    </tr>\n",
       "    <tr>\n",
       "      <th>2067162</th>\n",
       "      <td>2.0</td>\n",
       "      <td>7234</td>\n",
       "      <td>Men of Honor</td>\n",
       "    </tr>\n",
       "    <tr>\n",
       "      <th>...</th>\n",
       "      <td>...</td>\n",
       "      <td>...</td>\n",
       "      <td>...</td>\n",
       "    </tr>\n",
       "    <tr>\n",
       "      <th>462165</th>\n",
       "      <td>3.0</td>\n",
       "      <td>6859</td>\n",
       "      <td>Cheaper by the Dozen</td>\n",
       "    </tr>\n",
       "    <tr>\n",
       "      <th>462165</th>\n",
       "      <td>4.0</td>\n",
       "      <td>6908</td>\n",
       "      <td>Star Trek V: The Final Frontier</td>\n",
       "    </tr>\n",
       "    <tr>\n",
       "      <th>462165</th>\n",
       "      <td>3.0</td>\n",
       "      <td>6911</td>\n",
       "      <td>Little Shop of Horrors</td>\n",
       "    </tr>\n",
       "    <tr>\n",
       "      <th>462165</th>\n",
       "      <td>4.0</td>\n",
       "      <td>6971</td>\n",
       "      <td>Ferris Bueller's Day Off</td>\n",
       "    </tr>\n",
       "    <tr>\n",
       "      <th>462165</th>\n",
       "      <td>3.0</td>\n",
       "      <td>6972</td>\n",
       "      <td>Armageddon</td>\n",
       "    </tr>\n",
       "  </tbody>\n",
       "</table>\n",
       "<p>2673 rows × 3 columns</p>\n",
       "</div>"
      ],
      "text/plain": [
       "            rating  movieid                                              title\n",
       "customerid                                                                    \n",
       "2067162        5.0     7057  Lord of the Rings: The Two Towers: Extended Ed...\n",
       "2067162        5.0     7145                Star Trek III: The Search for Spock\n",
       "2067162        4.0     7193                                 The Princess Bride\n",
       "2067162        5.0     7230  The Lord of the Rings: The Fellowship of the R...\n",
       "2067162        2.0     7234                                       Men of Honor\n",
       "...            ...      ...                                                ...\n",
       "462165         3.0     6859                               Cheaper by the Dozen\n",
       "462165         4.0     6908                    Star Trek V: The Final Frontier\n",
       "462165         3.0     6911                             Little Shop of Horrors\n",
       "462165         4.0     6971                           Ferris Bueller's Day Off\n",
       "462165         3.0     6972                                         Armageddon\n",
       "\n",
       "[2673 rows x 3 columns]"
      ]
     },
     "execution_count": 37,
     "metadata": {},
     "output_type": "execute_result"
    }
   ],
   "source": [
    "# find the ratings for the neighbors\n",
    "neighborhood = ratings.set_index('customerid').loc[user_ids[0]]\n",
    "neighborhood"
   ]
  },
  {
   "cell_type": "code",
   "execution_count": 38,
   "id": "ef26210e",
   "metadata": {},
   "outputs": [
    {
     "data": {
      "text/plain": [
       "movieid\n",
       "4979     50.0\n",
       "6655     50.0\n",
       "14214    50.0\n",
       "5582     49.0\n",
       "9628     49.0\n",
       "         ... \n",
       "9590      1.0\n",
       "14940     1.0\n",
       "290       1.0\n",
       "17171     1.0\n",
       "17387     1.0\n",
       "Name: rating, Length: 1122, dtype: float64"
      ]
     },
     "execution_count": 38,
     "metadata": {},
     "output_type": "execute_result"
    }
   ],
   "source": [
    "recommendations = neighborhood.groupby('movieid')['rating'].sum().sort_values(ascending=False)\n",
    "recommendations"
   ]
  },
  {
   "cell_type": "code",
   "execution_count": 39,
   "id": "b8f09c57",
   "metadata": {},
   "outputs": [
    {
     "data": {
      "text/plain": [
       "[12748, 4979, 12785, 12918, 13031, 13313, 16265, 14240, 14214]"
      ]
     },
     "execution_count": 39,
     "metadata": {},
     "output_type": "execute_result"
    }
   ],
   "source": [
    "liked_items"
   ]
  },
  {
   "cell_type": "code",
   "execution_count": 40,
   "id": "f7b18cb4",
   "metadata": {},
   "outputs": [],
   "source": [
    "# filter out movies that the user allready watched\n",
    "item_filter = ~recommendations.index.isin(liked_items)\n",
    "recommendations = recommendations.loc[item_filter]"
   ]
  },
  {
   "cell_type": "code",
   "execution_count": 41,
   "id": "e08ae59d",
   "metadata": {},
   "outputs": [
    {
     "data": {
      "text/html": [
       "<div>\n",
       "<style scoped>\n",
       "    .dataframe tbody tr th:only-of-type {\n",
       "        vertical-align: middle;\n",
       "    }\n",
       "\n",
       "    .dataframe tbody tr th {\n",
       "        vertical-align: top;\n",
       "    }\n",
       "\n",
       "    .dataframe thead th {\n",
       "        text-align: right;\n",
       "    }\n",
       "</style>\n",
       "<table border=\"1\" class=\"dataframe\">\n",
       "  <thead>\n",
       "    <tr style=\"text-align: right;\">\n",
       "      <th></th>\n",
       "      <th>movieid</th>\n",
       "      <th>year</th>\n",
       "      <th>title</th>\n",
       "    </tr>\n",
       "    <tr>\n",
       "      <th>movieid</th>\n",
       "      <th></th>\n",
       "      <th></th>\n",
       "      <th></th>\n",
       "    </tr>\n",
       "  </thead>\n",
       "  <tbody>\n",
       "    <tr>\n",
       "      <th>6655</th>\n",
       "      <td>6656</td>\n",
       "      <td>2004</td>\n",
       "      <td>10.5</td>\n",
       "    </tr>\n",
       "    <tr>\n",
       "      <th>5582</th>\n",
       "      <td>5583</td>\n",
       "      <td>2005</td>\n",
       "      <td>The Marksman</td>\n",
       "    </tr>\n",
       "    <tr>\n",
       "      <th>9628</th>\n",
       "      <td>9629</td>\n",
       "      <td>2002</td>\n",
       "      <td>Stranded</td>\n",
       "    </tr>\n",
       "    <tr>\n",
       "      <th>7984</th>\n",
       "      <td>7985</td>\n",
       "      <td>1968</td>\n",
       "      <td>Star Trek: The Original Series: Vols. 29-40</td>\n",
       "    </tr>\n",
       "    <tr>\n",
       "      <th>138</th>\n",
       "      <td>139</td>\n",
       "      <td>2001</td>\n",
       "      <td>Allergies: A Natural Approach</td>\n",
       "    </tr>\n",
       "    <tr>\n",
       "      <th>209</th>\n",
       "      <td>210</td>\n",
       "      <td>2001</td>\n",
       "      <td>Onmyoji</td>\n",
       "    </tr>\n",
       "    <tr>\n",
       "      <th>15727</th>\n",
       "      <td>15728</td>\n",
       "      <td>2000</td>\n",
       "      <td>Dead Creatures</td>\n",
       "    </tr>\n",
       "    <tr>\n",
       "      <th>15699</th>\n",
       "      <td>15700</td>\n",
       "      <td>1988</td>\n",
       "      <td>The Land Before Time</td>\n",
       "    </tr>\n",
       "    <tr>\n",
       "      <th>10764</th>\n",
       "      <td>10765</td>\n",
       "      <td>2001</td>\n",
       "      <td>Rod Steele 0014: You Only Live Until You Die</td>\n",
       "    </tr>\n",
       "    <tr>\n",
       "      <th>16937</th>\n",
       "      <td>16938</td>\n",
       "      <td>1992</td>\n",
       "      <td>Inspector Morse 22: Happy Families</td>\n",
       "    </tr>\n",
       "  </tbody>\n",
       "</table>\n",
       "</div>"
      ],
      "text/plain": [
       "         movieid  year                                         title\n",
       "movieid                                                             \n",
       "6655        6656  2004                                          10.5\n",
       "5582        5583  2005                                  The Marksman\n",
       "9628        9629  2002                                      Stranded\n",
       "7984        7985  1968   Star Trek: The Original Series: Vols. 29-40\n",
       "138          139  2001                 Allergies: A Natural Approach\n",
       "209          210  2001                                       Onmyoji\n",
       "15727      15728  2000                                Dead Creatures\n",
       "15699      15700  1988                          The Land Before Time\n",
       "10764      10765  2001  Rod Steele 0014: You Only Live Until You Die\n",
       "16937      16938  1992            Inspector Morse 22: Happy Families"
      ]
     },
     "execution_count": 41,
     "metadata": {},
     "output_type": "execute_result"
    }
   ],
   "source": [
    "# top 10 recommendations\n",
    "movies.loc[recommendations.head(10).index]"
   ]
  },
  {
   "cell_type": "code",
   "execution_count": null,
   "id": "c946afec",
   "metadata": {},
   "outputs": [],
   "source": [
    "recommended_movie_ids = recommendations.head(10).index\n",
    "recommended_movie_ids"
   ]
  },
  {
   "cell_type": "code",
   "execution_count": null,
   "id": "7141180d",
   "metadata": {},
   "outputs": [],
   "source": [
    "relevant_items"
   ]
  },
  {
   "cell_type": "code",
   "execution_count": null,
   "id": "097cb843",
   "metadata": {},
   "outputs": [],
   "source": []
  },
  {
   "cell_type": "code",
   "execution_count": null,
   "id": "baf01e79",
   "metadata": {},
   "outputs": [],
   "source": []
  },
  {
   "cell_type": "code",
   "execution_count": null,
   "id": "b8267abc",
   "metadata": {},
   "outputs": [],
   "source": []
  },
  {
   "cell_type": "code",
   "execution_count": null,
   "id": "f1127f53",
   "metadata": {},
   "outputs": [],
   "source": []
  },
  {
   "cell_type": "code",
   "execution_count": null,
   "id": "4ee443b9",
   "metadata": {},
   "outputs": [],
   "source": []
  },
  {
   "cell_type": "code",
   "execution_count": null,
   "id": "dbdc6784",
   "metadata": {},
   "outputs": [],
   "source": []
  },
  {
   "cell_type": "code",
   "execution_count": null,
   "id": "5eacc429",
   "metadata": {},
   "outputs": [],
   "source": []
  },
  {
   "cell_type": "code",
   "execution_count": null,
   "id": "862e7b57",
   "metadata": {},
   "outputs": [],
   "source": []
  },
  {
   "cell_type": "code",
   "execution_count": null,
   "id": "897270f4",
   "metadata": {},
   "outputs": [],
   "source": []
  },
  {
   "cell_type": "code",
   "execution_count": null,
   "id": "a68db50e",
   "metadata": {},
   "outputs": [],
   "source": []
  },
  {
   "cell_type": "code",
   "execution_count": null,
   "id": "0adfa5a4",
   "metadata": {},
   "outputs": [],
   "source": []
  },
  {
   "cell_type": "code",
   "execution_count": null,
   "id": "a573618f",
   "metadata": {},
   "outputs": [],
   "source": []
  },
  {
   "cell_type": "markdown",
   "id": "78ef10c8",
   "metadata": {},
   "source": [
    "#### Test the algorithm"
   ]
  },
  {
   "cell_type": "markdown",
   "id": "1003155c",
   "metadata": {},
   "source": [
    "#### maybe create some visualisations to check the data distribution "
   ]
  },
  {
   "cell_type": "markdown",
   "id": "03c01d71",
   "metadata": {},
   "source": [
    "#### Add ratings in Qualify dataset and compare with probe to check the accuracy"
   ]
  },
  {
   "cell_type": "markdown",
   "id": "d73a5098",
   "metadata": {},
   "source": [
    "#### Create a Predictor system which takes 3 inputs from user and provides list of related movies "
   ]
  },
  {
   "cell_type": "markdown",
   "id": "1ed2f5b9",
   "metadata": {},
   "source": [
    "### Create a GUI using Streamlit"
   ]
  },
  {
   "cell_type": "code",
   "execution_count": null,
   "id": "84ee6d9a",
   "metadata": {},
   "outputs": [],
   "source": []
  }
 ],
 "metadata": {
  "kernelspec": {
   "display_name": "Python 3 (ipykernel)",
   "language": "python",
   "name": "python3"
  },
  "language_info": {
   "codemirror_mode": {
    "name": "ipython",
    "version": 3
   },
   "file_extension": ".py",
   "mimetype": "text/x-python",
   "name": "python",
   "nbconvert_exporter": "python",
   "pygments_lexer": "ipython3",
   "version": "3.9.12"
  },
  "vscode": {
   "interpreter": {
    "hash": "e8899eb02dfbc033aab5733bdae1bd213fa031d40331094008e8673d99ebab63"
   }
  }
 },
 "nbformat": 4,
 "nbformat_minor": 5
}
