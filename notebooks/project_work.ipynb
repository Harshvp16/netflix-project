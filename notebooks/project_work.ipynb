{
 "cells": [
  {
   "cell_type": "markdown",
   "id": "acac083c",
   "metadata": {},
   "source": [
    "### Importing all the important Libraries"
   ]
  },
  {
   "cell_type": "code",
   "execution_count": 1,
   "id": "4323431b",
   "metadata": {},
   "outputs": [],
   "source": [
    "import pandas as pd\n",
    "import numpy as np\n",
    "import seaborn as sns\n",
    "import matplotlib.pyplot as plt\n",
    "from tqdm import tqdm\n",
    "from dotenv import dotenv_values\n",
    "from sqlalchemy import create_engine\n",
    "import sklearn\n",
    "from sklearn.neighbors import NearestNeighbors\n",
    "from sklearn.preprocessing import StandardScaler\n",
    "from sklearn.model_selection import train_test_split\n",
    "from sklearn.neighbors import KNeighborsClassifier\n",
    "from sklearn.metrics import pairwise\n",
    "from sklearn.metrics import accuracy_score\n",
    "import statsmodels.formula.api as sm\n",
    "from scipy.sparse import csr_matrix\n",
    "import os\n",
    "import streamlit as sl"
   ]
  },
  {
   "cell_type": "raw",
   "id": "a76062fa",
   "metadata": {},
   "source": [
    "!pip install streamlit"
   ]
  },
  {
   "cell_type": "markdown",
   "id": "c0e81113",
   "metadata": {},
   "source": [
    "### Reading different datasets "
   ]
  },
  {
   "cell_type": "raw",
   "id": "f92cb9cf",
   "metadata": {},
   "source": [
    "df = pd.read_csv(\"../data/netflix_titles.csv\")"
   ]
  },
  {
   "cell_type": "raw",
   "id": "179bce42",
   "metadata": {},
   "source": [
    "df.head()"
   ]
  },
  {
   "cell_type": "raw",
   "id": "1501b3f4",
   "metadata": {},
   "source": [
    "movies = df[df[\"type\"]== \"Movie\"]"
   ]
  },
  {
   "cell_type": "raw",
   "id": "e9ac82be",
   "metadata": {},
   "source": [
    "movies.info()"
   ]
  },
  {
   "cell_type": "raw",
   "id": "1ae066ea",
   "metadata": {},
   "source": [
    "movies.to_csv (\"../data/mv.csv\", index =False)"
   ]
  },
  {
   "cell_type": "raw",
   "id": "6e44277b",
   "metadata": {},
   "source": [
    "tv = df[df[\"type\"]== \"TV Show\"]"
   ]
  },
  {
   "cell_type": "raw",
   "id": "86ef5e33",
   "metadata": {},
   "source": [
    "tv.to_csv (\"../data/tv.csv\", index =False)"
   ]
  },
  {
   "cell_type": "markdown",
   "id": "8d59cb3f",
   "metadata": {},
   "source": [
    "### Filtering Movie titles"
   ]
  },
  {
   "cell_type": "raw",
   "id": "b6b3d0bf",
   "metadata": {},
   "source": [
    "n = pd.read_csv(\"../data/movie_titles.csv\", encoding = \"unicode_escape\" ,names= [\"movieid\",\"year\",\"title\"])"
   ]
  },
  {
   "cell_type": "raw",
   "id": "198898e5",
   "metadata": {},
   "source": [
    "n.head()"
   ]
  },
  {
   "cell_type": "raw",
   "id": "c66cb714",
   "metadata": {},
   "source": [
    "n.info()"
   ]
  },
  {
   "cell_type": "raw",
   "id": "d53c8776",
   "metadata": {},
   "source": [
    "n.fillna(value=0, inplace= True)"
   ]
  },
  {
   "cell_type": "raw",
   "id": "939db894",
   "metadata": {},
   "source": [
    "n.info()"
   ]
  },
  {
   "cell_type": "raw",
   "id": "4adede0f",
   "metadata": {},
   "source": [
    "n[\"year\"]= n[\"year\"].astype(int)"
   ]
  },
  {
   "cell_type": "raw",
   "id": "295c49b4",
   "metadata": {},
   "source": [
    "n.head()"
   ]
  },
  {
   "cell_type": "raw",
   "id": "8188fd94",
   "metadata": {},
   "source": [
    "n.to_csv (\"../data/movie_sorted.csv\", index =False)"
   ]
  },
  {
   "cell_type": "markdown",
   "id": "3781e3ca",
   "metadata": {},
   "source": [
    "### Reading sorted Data"
   ]
  },
  {
   "cell_type": "code",
   "execution_count": null,
   "id": "aafe7e10",
   "metadata": {},
   "outputs": [],
   "source": [
    "n= pd.read_csv(\"../data/movie_sorted.csv\")"
   ]
  },
  {
   "cell_type": "code",
   "execution_count": null,
   "id": "7f0c6ded",
   "metadata": {},
   "outputs": [],
   "source": [
    "n.tail()"
   ]
  },
  {
   "cell_type": "markdown",
   "id": "5dbeccb6",
   "metadata": {},
   "source": [
    "### Reading the rating files for movieid 1 and cleaning the file "
   ]
  },
  {
   "cell_type": "code",
   "execution_count": null,
   "id": "b02b678a",
   "metadata": {},
   "outputs": [],
   "source": [
    "df = pd.read_csv(\"../data/mv_0000001.txt\", names=[\"customerid\",\"rating\",\"date\"] )"
   ]
  },
  {
   "cell_type": "code",
   "execution_count": null,
   "id": "8e78693d",
   "metadata": {},
   "outputs": [],
   "source": [
    "df.head()"
   ]
  },
  {
   "cell_type": "raw",
   "id": "132c0854",
   "metadata": {},
   "source": [
    "df[\"date\"] = pd.to_datetime(df[\"date\"], format = \"%Y-%m-%d\")"
   ]
  },
  {
   "cell_type": "raw",
   "id": "9929766e",
   "metadata": {},
   "source": [
    "df.iloc[:1 , :1]"
   ]
  },
  {
   "cell_type": "raw",
   "id": "b68f8c87",
   "metadata": {},
   "source": [
    "df= df.assign(movieid = df.iloc[:1 , :1])"
   ]
  },
  {
   "cell_type": "raw",
   "id": "591f24db",
   "metadata": {},
   "source": [
    "df[\"movieid\"].fillna(method= \"ffill\", inplace= True)"
   ]
  },
  {
   "cell_type": "raw",
   "id": "4b5cce42",
   "metadata": {},
   "source": [
    "df = df.iloc[1:, :]"
   ]
  },
  {
   "cell_type": "raw",
   "id": "d5e7ebfd",
   "metadata": {},
   "source": [
    "df[\"movieid\"]= df[\"movieid\"].str.replace(r\":\",\"\")"
   ]
  },
  {
   "cell_type": "raw",
   "id": "7b53052d",
   "metadata": {},
   "source": [
    "df[\"movieid\"]=df[\"movieid\"].astype(int)"
   ]
  },
  {
   "cell_type": "raw",
   "id": "97a115e8",
   "metadata": {},
   "source": [
    "df.to_csv(\"../data/movieid1_rating.csv\", index =False)"
   ]
  },
  {
   "cell_type": "markdown",
   "id": "1d967460",
   "metadata": {},
   "source": [
    "### checking the first cleaned rating file "
   ]
  },
  {
   "cell_type": "code",
   "execution_count": null,
   "id": "a27cf341",
   "metadata": {},
   "outputs": [],
   "source": [
    "df= pd.read_csv(\"../data/movieid1_rating.csv\")"
   ]
  },
  {
   "cell_type": "code",
   "execution_count": null,
   "id": "c081dae1",
   "metadata": {},
   "outputs": [],
   "source": [
    "df.head()"
   ]
  },
  {
   "cell_type": "markdown",
   "id": "6a114d94",
   "metadata": {},
   "source": [
    "### Creating a function to read and clean all the rating files"
   ]
  },
  {
   "cell_type": "raw",
   "id": "62d6624a",
   "metadata": {},
   "source": [
    "def parse_file(filename):\n",
    "    df = pd.read_csv(f\"../data/netflix_data/training_set/{filename}\", names=[\"customerid\",\"rating\",\"date\"])\n",
    "    df[\"date\"] = pd.to_datetime(df[\"date\"], format = \"%Y-%m-%d\")\n",
    "    df= df.assign(movieid = df.iloc[:1 , :1])\n",
    "    df[\"movieid\"].fillna(method= \"ffill\", inplace= True)\n",
    "    df = df.iloc[1:, :]\n",
    "    df[\"movieid\"]= df[\"movieid\"].str.replace(r\":\",\"\")\n",
    "    df[\"movieid\"]=df[\"movieid\"].astype(int)\n",
    "    return df"
   ]
  },
  {
   "cell_type": "raw",
   "id": "1b0d1c97",
   "metadata": {},
   "source": [
    "parse_file(\"mv_0000001.txt\").info()"
   ]
  },
  {
   "cell_type": "raw",
   "id": "e0405432",
   "metadata": {
    "collapsed": true
   },
   "source": [
    "os.listdir(\"../data/netflix_data/training_set\")"
   ]
  },
  {
   "cell_type": "markdown",
   "id": "3a2ccb59",
   "metadata": {},
   "source": [
    "### Creating and checking a test version of concatinated rating files"
   ]
  },
  {
   "cell_type": "raw",
   "id": "1b1766c9",
   "metadata": {},
   "source": [
    "with open(\"../data/ratings_small.csv\", mode=\"w\", newline='') as file:\n",
    "    for filename in tqdm(os.listdir(\"../data/netflix_data/training_set\")[0:6]):\n",
    "        if 'mv' in filename:\n",
    "            df = parse_file(filename)\n",
    "            df.to_csv(file, index=False, header=False)\n"
   ]
  },
  {
   "cell_type": "code",
   "execution_count": null,
   "id": "58fa6ec0",
   "metadata": {},
   "outputs": [],
   "source": [
    "df_s= pd.read_csv(\"../data/ratings_small.csv\", names=[\"customerid\",\"rating\",\"date\", \"movieid\"])"
   ]
  },
  {
   "cell_type": "code",
   "execution_count": null,
   "id": "79d07bef",
   "metadata": {},
   "outputs": [],
   "source": [
    "df_s[\"date\"] = pd.to_datetime(df_s[\"date\"], format = \"%Y-%m-%d\")"
   ]
  },
  {
   "cell_type": "code",
   "execution_count": null,
   "id": "c6e16495",
   "metadata": {},
   "outputs": [],
   "source": [
    "df_s.info()"
   ]
  },
  {
   "cell_type": "markdown",
   "id": "c464a2e6",
   "metadata": {},
   "source": [
    "### Creating the large file containing all the ratings"
   ]
  },
  {
   "cell_type": "raw",
   "id": "94a40754",
   "metadata": {},
   "source": [
    "with open(\"../data/ratings.csv\", mode=\"w\", newline='') as file:\n",
    "    for filename in tqdm(os.listdir(\"../data/netflix_data/training_set\")):\n",
    "        if 'mv' in filename:\n",
    "            df = parse_file(filename)\n",
    "            df.to_csv(file, index=False, header=False)"
   ]
  },
  {
   "cell_type": "markdown",
   "id": "53461f2e",
   "metadata": {},
   "source": [
    "### Reading and transforming the Qualify  file to add the Machine Learing results"
   ]
  },
  {
   "cell_type": "raw",
   "id": "5e8c779d",
   "metadata": {},
   "source": [
    "qualify= pd.read_csv(\"../data/netflix_data/qualifying.txt\", names = [ \"customerid\", \"date\"])"
   ]
  },
  {
   "cell_type": "raw",
   "id": "cf14e98d",
   "metadata": {},
   "source": [
    "q= qualify[qualify[\"date\"].isnull() ]"
   ]
  },
  {
   "cell_type": "raw",
   "id": "ec80de5e",
   "metadata": {},
   "source": [
    "q[\"index\"]= q.index"
   ]
  },
  {
   "cell_type": "raw",
   "id": "2334e35c",
   "metadata": {},
   "source": [
    "q[\"customerid\"]= q[\"customerid\"].str.replace(r\":\",\"\")"
   ]
  },
  {
   "cell_type": "raw",
   "id": "9d78db6c",
   "metadata": {},
   "source": [
    "q[\"customerid\"].astype(int)"
   ]
  },
  {
   "cell_type": "raw",
   "id": "ab7d99e7",
   "metadata": {},
   "source": [
    "t = []\n",
    "\n",
    "for i in tqdm(range(len(qualify))):\n",
    "    x = q[q['index'] <= i].iloc[-1]['customerid']\n",
    "#     c= x.['customerid']\n",
    "    t.append(x)\n",
    "\n",
    "print(t)\n",
    "# [1,1,1,1,1,1,1,1,1,1, 10, 10, 10, ...., ]\n",
    "\n",
    "# q['movieid'] = t"
   ]
  },
  {
   "cell_type": "raw",
   "id": "d73006f2",
   "metadata": {},
   "source": [
    "qualify['movieid'] = t"
   ]
  },
  {
   "cell_type": "raw",
   "id": "a2203725",
   "metadata": {},
   "source": [
    "qualify.tail(20)"
   ]
  },
  {
   "cell_type": "raw",
   "id": "3621a1d4",
   "metadata": {},
   "source": [
    "qualify.dropna(inplace= True)"
   ]
  },
  {
   "cell_type": "raw",
   "id": "6e382c8c",
   "metadata": {},
   "source": [
    "qualify.to_csv(\"../data/qualify.csv\", index =False)"
   ]
  },
  {
   "cell_type": "markdown",
   "id": "09a5669b",
   "metadata": {},
   "source": [
    "### Reading the cleaned qualify file "
   ]
  },
  {
   "cell_type": "code",
   "execution_count": null,
   "id": "005f8565",
   "metadata": {},
   "outputs": [],
   "source": [
    "qualifier= pd.read_csv(\"../data/qualify.csv\")"
   ]
  },
  {
   "cell_type": "code",
   "execution_count": null,
   "id": "e75e92a3",
   "metadata": {},
   "outputs": [],
   "source": [
    "qualifier"
   ]
  },
  {
   "cell_type": "markdown",
   "id": "465f0d12",
   "metadata": {},
   "source": [
    "### Cleaning the probe file to compare the results of qualify dataset created with help of machine learning Algorithms"
   ]
  },
  {
   "cell_type": "raw",
   "id": "f1aaeb77",
   "metadata": {},
   "source": [
    "probe= pd.read_csv(\"../data/netflix_data/probe.txt\", names = [ \"customerid\"])"
   ]
  },
  {
   "cell_type": "raw",
   "id": "22b9027b",
   "metadata": {},
   "source": [
    "p= probe[probe[\"customerid\"].str.contains(\":\")]"
   ]
  },
  {
   "cell_type": "raw",
   "id": "05ac57ee",
   "metadata": {},
   "source": [
    "p[\"index\"]= p.index"
   ]
  },
  {
   "cell_type": "raw",
   "id": "99dee891",
   "metadata": {},
   "source": [
    "p[\"customerid\"]= p[\"customerid\"].str.replace(r\":\",\"\")"
   ]
  },
  {
   "cell_type": "raw",
   "id": "b21a0a70",
   "metadata": {},
   "source": [
    "p[\"customerid\"]= p[\"customerid\"].astype(int)"
   ]
  },
  {
   "cell_type": "raw",
   "id": "77874e74",
   "metadata": {},
   "source": [
    "s = []\n",
    "\n",
    "for i in tqdm(range(len(probe))):\n",
    "    y = p[p['index'] <= i].iloc[-1]['customerid']\n",
    "    s.append(y)\n",
    "\n",
    "probe['movieid'] = s"
   ]
  },
  {
   "cell_type": "raw",
   "id": "2c0d9bd0",
   "metadata": {},
   "source": [
    "probe = probe[probe[\"customerid\"].str.contains(\":\")== False]"
   ]
  },
  {
   "cell_type": "raw",
   "id": "70645d37",
   "metadata": {},
   "source": [
    "probe.to_csv (\"../data/probe.csv\", index =False)"
   ]
  },
  {
   "cell_type": "markdown",
   "id": "998bd09f",
   "metadata": {},
   "source": [
    "### Reading the cleaned probe file"
   ]
  },
  {
   "cell_type": "code",
   "execution_count": null,
   "id": "565577b1",
   "metadata": {},
   "outputs": [],
   "source": [
    "probability = pd.read_csv(\"../data/probe.csv\")"
   ]
  },
  {
   "cell_type": "code",
   "execution_count": null,
   "id": "39d86a3c",
   "metadata": {},
   "outputs": [],
   "source": [
    "probability"
   ]
  },
  {
   "cell_type": "markdown",
   "id": "efe315b1",
   "metadata": {},
   "source": [
    "## NEXT TASKS"
   ]
  },
  {
   "cell_type": "markdown",
   "id": "4e474ae6",
   "metadata": {},
   "source": [
    "#### Filter the data to create a better machine learning program"
   ]
  },
  {
   "cell_type": "code",
   "execution_count": null,
   "id": "32c69461",
   "metadata": {},
   "outputs": [],
   "source": [
    "small= pd.read_csv(\"../data/ratings_small.csv\" )\n",
    "small.head()"
   ]
  },
  {
   "cell_type": "code",
   "execution_count": 11,
   "id": "19d51ed1",
   "metadata": {},
   "outputs": [
    {
     "name": "stdout",
     "output_type": "stream",
     "text": [
      "<class 'pandas.core.frame.DataFrame'>\n",
      "RangeIndex: 17770 entries, 0 to 17769\n",
      "Data columns (total 3 columns):\n",
      " #   Column   Non-Null Count  Dtype \n",
      "---  ------   --------------  ----- \n",
      " 0   movieid  17770 non-null  int64 \n",
      " 1   year     17770 non-null  int64 \n",
      " 2   title    17770 non-null  object\n",
      "dtypes: int64(2), object(1)\n",
      "memory usage: 416.6+ KB\n"
     ]
    }
   ],
   "source": [
    "movies = pd.read_csv(\"../data/movie_sorted.csv\")\n",
    "movies.info()"
   ]
  },
  {
   "cell_type": "code",
   "execution_count": null,
   "id": "91653c5d",
   "metadata": {},
   "outputs": [],
   "source": [
    "ratings = pd.read_csv(\"../../thymestamps-working-folder/data/selected-ratings.csv\")\n",
    "ratings.head()"
   ]
  },
  {
   "cell_type": "code",
   "execution_count": null,
   "id": "ee4c3647",
   "metadata": {},
   "outputs": [],
   "source": [
    "ratings.info()"
   ]
  },
  {
   "cell_type": "code",
   "execution_count": null,
   "id": "57124704",
   "metadata": {},
   "outputs": [],
   "source": [
    "ratings[\"movieid\"].value_counts()"
   ]
  },
  {
   "cell_type": "code",
   "execution_count": null,
   "id": "407c639d",
   "metadata": {},
   "outputs": [],
   "source": [
    "ratings['customerid'].nunique(), ratings['movieid'].nunique(), ratings['movieid'].max()"
   ]
  },
  {
   "cell_type": "code",
   "execution_count": null,
   "id": "ce890746",
   "metadata": {},
   "outputs": [],
   "source": [
    "user = csr_matrix((ratings['rating'], (ratings['movieid'], ratings['customerid'])))"
   ]
  },
  {
   "cell_type": "markdown",
   "id": "a24a2e3e",
   "metadata": {},
   "source": [
    "#### like pivot_table but much more memory efficient"
   ]
  },
  {
   "cell_type": "code",
   "execution_count": null,
   "id": "94188ac8",
   "metadata": {},
   "outputs": [],
   "source": [
    "user.shape"
   ]
  },
  {
   "cell_type": "code",
   "execution_count": null,
   "id": "9ecb0ec4",
   "metadata": {},
   "outputs": [],
   "source": [
    "# customerid vector\n",
    "user[1,:].todense()"
   ]
  },
  {
   "cell_type": "code",
   "execution_count": null,
   "id": "8e80e85a",
   "metadata": {},
   "outputs": [],
   "source": [
    "# movieid vector\n",
    "user[:,1].todense().shape"
   ]
  },
  {
   "cell_type": "code",
   "execution_count": null,
   "id": "aea54e10",
   "metadata": {},
   "outputs": [],
   "source": [
    "UU = pairwise.euclidean_distances(user)\n",
    "print(UU.shape)"
   ]
  },
  {
   "cell_type": "code",
   "execution_count": null,
   "id": "057c006c",
   "metadata": {},
   "outputs": [],
   "source": [
    "sns.heatmap(UU, cmap='coolwarm')"
   ]
  },
  {
   "cell_type": "markdown",
   "id": "453894f0",
   "metadata": {},
   "source": [
    "#### NEw file"
   ]
  },
  {
   "cell_type": "code",
   "execution_count": 2,
   "id": "c3eb4929",
   "metadata": {},
   "outputs": [
    {
     "data": {
      "text/html": [
       "<div>\n",
       "<style scoped>\n",
       "    .dataframe tbody tr th:only-of-type {\n",
       "        vertical-align: middle;\n",
       "    }\n",
       "\n",
       "    .dataframe tbody tr th {\n",
       "        vertical-align: top;\n",
       "    }\n",
       "\n",
       "    .dataframe thead th {\n",
       "        text-align: right;\n",
       "    }\n",
       "</style>\n",
       "<table border=\"1\" class=\"dataframe\">\n",
       "  <thead>\n",
       "    <tr style=\"text-align: right;\">\n",
       "      <th></th>\n",
       "      <th>customerid</th>\n",
       "      <th>rating</th>\n",
       "      <th>movieid</th>\n",
       "      <th>title</th>\n",
       "    </tr>\n",
       "  </thead>\n",
       "  <tbody>\n",
       "    <tr>\n",
       "      <th>0</th>\n",
       "      <td>2407893</td>\n",
       "      <td>4.0</td>\n",
       "      <td>6974</td>\n",
       "      <td>The Usual Suspects</td>\n",
       "    </tr>\n",
       "    <tr>\n",
       "      <th>1</th>\n",
       "      <td>1673319</td>\n",
       "      <td>5.0</td>\n",
       "      <td>6974</td>\n",
       "      <td>The Usual Suspects</td>\n",
       "    </tr>\n",
       "    <tr>\n",
       "      <th>2</th>\n",
       "      <td>602</td>\n",
       "      <td>5.0</td>\n",
       "      <td>6974</td>\n",
       "      <td>The Usual Suspects</td>\n",
       "    </tr>\n",
       "    <tr>\n",
       "      <th>3</th>\n",
       "      <td>2604811</td>\n",
       "      <td>4.0</td>\n",
       "      <td>6974</td>\n",
       "      <td>The Usual Suspects</td>\n",
       "    </tr>\n",
       "    <tr>\n",
       "      <th>4</th>\n",
       "      <td>1329723</td>\n",
       "      <td>5.0</td>\n",
       "      <td>6974</td>\n",
       "      <td>The Usual Suspects</td>\n",
       "    </tr>\n",
       "  </tbody>\n",
       "</table>\n",
       "</div>"
      ],
      "text/plain": [
       "   customerid  rating  movieid               title\n",
       "0     2407893     4.0     6974  The Usual Suspects\n",
       "1     1673319     5.0     6974  The Usual Suspects\n",
       "2         602     5.0     6974  The Usual Suspects\n",
       "3     2604811     4.0     6974  The Usual Suspects\n",
       "4     1329723     5.0     6974  The Usual Suspects"
      ]
     },
     "execution_count": 2,
     "metadata": {},
     "output_type": "execute_result"
    }
   ],
   "source": [
    "r =  pd.read_csv(\"../../thymestamps-working-folder/data/filtered-ratings.csv\")\n",
    "r.head()"
   ]
  },
  {
   "cell_type": "code",
   "execution_count": 22,
   "id": "9cdebd67",
   "metadata": {},
   "outputs": [
    {
     "data": {
      "text/plain": [
       "1905     120787\n",
       "11283    113216\n",
       "15124    113000\n",
       "15107    109851\n",
       "5317     108621\n",
       "          ...  \n",
       "14021      1283\n",
       "17096      1234\n",
       "761        1230\n",
       "9044       1219\n",
       "11819      1165\n",
       "Name: movieid, Length: 5264, dtype: int64"
      ]
     },
     "execution_count": 22,
     "metadata": {},
     "output_type": "execute_result"
    }
   ],
   "source": [
    "r[\"movieid\"].value_counts()"
   ]
  },
  {
   "cell_type": "code",
   "execution_count": 3,
   "id": "7bf928d1",
   "metadata": {},
   "outputs": [],
   "source": [
    "u = csr_matrix((r['rating'], (r['movieid'], r['customerid'])))"
   ]
  },
  {
   "cell_type": "code",
   "execution_count": 4,
   "id": "714de73b",
   "metadata": {},
   "outputs": [],
   "source": [
    "# initialize the unsupervised model\n",
    "model = NearestNeighbors(metric='cosine')\n"
   ]
  },
  {
   "cell_type": "code",
   "execution_count": 6,
   "id": "44bb5e99",
   "metadata": {},
   "outputs": [
    {
     "data": {
      "text/plain": [
       "NearestNeighbors(metric='cosine')"
      ]
     },
     "execution_count": 6,
     "metadata": {},
     "output_type": "execute_result"
    }
   ],
   "source": [
    "# fit it to the user-item matrix\n",
    "model.fit(u)"
   ]
  },
  {
   "cell_type": "code",
   "execution_count": 8,
   "id": "cf3f063c",
   "metadata": {},
   "outputs": [
    {
     "data": {
      "text/plain": [
       "(array([[1., 1., 1., 1., 1., 1., 1., 1., 1., 1., 1., 1., 1., 1., 1., 1.,\n",
       "         1., 1., 1., 1.]]),\n",
       " array([[11852, 11866, 11836, 11851, 11850, 11849, 11848, 11847, 11846,\n",
       "         11845, 11844, 11843, 11842, 11841, 11840, 11839, 11838, 11853,\n",
       "         11865, 11864]], dtype=int64))"
      ]
     },
     "execution_count": 8,
     "metadata": {},
     "output_type": "execute_result"
    }
   ],
   "source": [
    "# top-10 most similar users for the user with the id 1 (id1 is included in the neighborhood!)\n",
    "model.kneighbors(u[1,:], n_neighbors=20)"
   ]
  },
  {
   "cell_type": "code",
   "execution_count": 9,
   "id": "5410adc5",
   "metadata": {},
   "outputs": [
    {
     "data": {
      "text/plain": [
       "(1, 2649430)"
      ]
     },
     "execution_count": 9,
     "metadata": {},
     "output_type": "execute_result"
    }
   ],
   "source": [
    "u[1,:].shape"
   ]
  },
  {
   "cell_type": "code",
   "execution_count": 23,
   "id": "e30c09ed",
   "metadata": {},
   "outputs": [],
   "source": [
    "liked = [1905,11283,15124,15107,5317,14021,17096,761,9044,11819]"
   ]
  },
  {
   "cell_type": "code",
   "execution_count": 24,
   "id": "59ab5b26",
   "metadata": {},
   "outputs": [
    {
     "data": {
      "text/plain": [
       "(2649430,)"
      ]
     },
     "execution_count": 24,
     "metadata": {},
     "output_type": "execute_result"
    }
   ],
   "source": [
    "# new user vector\n",
    "u_vec = np.repeat(0, 2649430)\n",
    "u_vec.shape\n",
    "\n",
    "# fill in some ratings\n",
    "u_vec[liked] = 5\n",
    "u_vec.shape"
   ]
  },
  {
   "cell_type": "code",
   "execution_count": 25,
   "id": "2c2e79b3",
   "metadata": {},
   "outputs": [],
   "source": [
    "distances, user_ids = model.kneighbors([u_vec], n_neighbors=10)"
   ]
  },
  {
   "cell_type": "code",
   "execution_count": 26,
   "id": "a9ba19ad",
   "metadata": {},
   "outputs": [
    {
     "data": {
      "text/plain": [
       "array([[ 9475,  7168, 12139,  9169, 12978,  2408,   840,   907, 12440,\n",
       "         3331]], dtype=int64)"
      ]
     },
     "execution_count": 26,
     "metadata": {},
     "output_type": "execute_result"
    }
   ],
   "source": [
    "user_ids"
   ]
  },
  {
   "cell_type": "code",
   "execution_count": null,
   "id": "b2a08586",
   "metadata": {},
   "outputs": [],
   "source": [
    "neighborhood = r.set_index('movieid').loc[user_ids[0]]\n",
    "neighborhood"
   ]
  },
  {
   "cell_type": "code",
   "execution_count": 29,
   "id": "beb63938",
   "metadata": {},
   "outputs": [
    {
     "data": {
      "text/plain": [
       "movieid\n",
       "3331     22438.0\n",
       "907      17412.0\n",
       "2408     16012.0\n",
       "12978    13584.0\n",
       "12440    13241.0\n",
       "12139    11580.0\n",
       "840      11094.0\n",
       "9169      9133.0\n",
       "7168      7768.0\n",
       "9475      7445.0\n",
       "Name: rating, dtype: float64"
      ]
     },
     "execution_count": 29,
     "metadata": {},
     "output_type": "execute_result"
    }
   ],
   "source": [
    "recommendations = neighborhood.groupby('movieid')['rating'].sum().sort_values(ascending=False)\n",
    "recommendations"
   ]
  },
  {
   "cell_type": "code",
   "execution_count": 30,
   "id": "8ad64503",
   "metadata": {},
   "outputs": [
    {
     "data": {
      "text/plain": [
       "[1905, 11283, 15124, 15107, 5317, 14021, 17096, 761, 9044, 11819]"
      ]
     },
     "execution_count": 30,
     "metadata": {},
     "output_type": "execute_result"
    }
   ],
   "source": [
    "liked"
   ]
  },
  {
   "cell_type": "code",
   "execution_count": 31,
   "id": "ceffc43d",
   "metadata": {},
   "outputs": [],
   "source": [
    "# filter out movies that the user allready watched\n",
    "item_filter = ~recommendations.index.isin(liked)\n",
    "recommendations = recommendations.loc[item_filter]"
   ]
  },
  {
   "cell_type": "code",
   "execution_count": 32,
   "id": "26a7f3da",
   "metadata": {},
   "outputs": [
    {
     "data": {
      "text/html": [
       "<div>\n",
       "<style scoped>\n",
       "    .dataframe tbody tr th:only-of-type {\n",
       "        vertical-align: middle;\n",
       "    }\n",
       "\n",
       "    .dataframe tbody tr th {\n",
       "        vertical-align: top;\n",
       "    }\n",
       "\n",
       "    .dataframe thead th {\n",
       "        text-align: right;\n",
       "    }\n",
       "</style>\n",
       "<table border=\"1\" class=\"dataframe\">\n",
       "  <thead>\n",
       "    <tr style=\"text-align: right;\">\n",
       "      <th></th>\n",
       "      <th>movieid</th>\n",
       "      <th>year</th>\n",
       "      <th>title</th>\n",
       "    </tr>\n",
       "    <tr>\n",
       "      <th>movieid</th>\n",
       "      <th></th>\n",
       "      <th></th>\n",
       "      <th></th>\n",
       "    </tr>\n",
       "  </thead>\n",
       "  <tbody>\n",
       "    <tr>\n",
       "      <th>3331</th>\n",
       "      <td>3332</td>\n",
       "      <td>1997</td>\n",
       "      <td>Spike and Mike's Sick &amp; Twisted Festival of An...</td>\n",
       "    </tr>\n",
       "    <tr>\n",
       "      <th>907</th>\n",
       "      <td>908</td>\n",
       "      <td>1981</td>\n",
       "      <td>Sense and Sensibility</td>\n",
       "    </tr>\n",
       "    <tr>\n",
       "      <th>2408</th>\n",
       "      <td>2409</td>\n",
       "      <td>1976</td>\n",
       "      <td>Robin and Marian</td>\n",
       "    </tr>\n",
       "    <tr>\n",
       "      <th>12978</th>\n",
       "      <td>12979</td>\n",
       "      <td>2002</td>\n",
       "      <td>The Adventures of Ociee Nash</td>\n",
       "    </tr>\n",
       "    <tr>\n",
       "      <th>12440</th>\n",
       "      <td>12441</td>\n",
       "      <td>1980</td>\n",
       "      <td>The Martian Chronicles</td>\n",
       "    </tr>\n",
       "    <tr>\n",
       "      <th>12139</th>\n",
       "      <td>12140</td>\n",
       "      <td>1983</td>\n",
       "      <td>48 Hrs.</td>\n",
       "    </tr>\n",
       "    <tr>\n",
       "      <th>840</th>\n",
       "      <td>841</td>\n",
       "      <td>1994</td>\n",
       "      <td>There Goes My Baby</td>\n",
       "    </tr>\n",
       "    <tr>\n",
       "      <th>9169</th>\n",
       "      <td>9170</td>\n",
       "      <td>2001</td>\n",
       "      <td>Ghost World</td>\n",
       "    </tr>\n",
       "    <tr>\n",
       "      <th>7168</th>\n",
       "      <td>7169</td>\n",
       "      <td>1998</td>\n",
       "      <td>Palmetto</td>\n",
       "    </tr>\n",
       "    <tr>\n",
       "      <th>9475</th>\n",
       "      <td>9476</td>\n",
       "      <td>1986</td>\n",
       "      <td>Last Resort</td>\n",
       "    </tr>\n",
       "  </tbody>\n",
       "</table>\n",
       "</div>"
      ],
      "text/plain": [
       "         movieid  year                                              title\n",
       "movieid                                                                  \n",
       "3331        3332  1997  Spike and Mike's Sick & Twisted Festival of An...\n",
       "907          908  1981                              Sense and Sensibility\n",
       "2408        2409  1976                                   Robin and Marian\n",
       "12978      12979  2002                       The Adventures of Ociee Nash\n",
       "12440      12441  1980                             The Martian Chronicles\n",
       "12139      12140  1983                                            48 Hrs.\n",
       "840          841  1994                                 There Goes My Baby\n",
       "9169        9170  2001                                        Ghost World\n",
       "7168        7169  1998                                           Palmetto\n",
       "9475        9476  1986                                        Last Resort"
      ]
     },
     "execution_count": 32,
     "metadata": {},
     "output_type": "execute_result"
    }
   ],
   "source": [
    "# top 10 recommendations\n",
    "movies.loc[recommendations.head(10).index]"
   ]
  },
  {
   "cell_type": "code",
   "execution_count": 34,
   "id": "3033b1d7",
   "metadata": {},
   "outputs": [
    {
     "data": {
      "text/plain": [
       "Int64Index([3331, 907, 2408, 12978, 12440, 12139, 840, 9169, 7168, 9475], dtype='int64', name='movieid')"
      ]
     },
     "execution_count": 34,
     "metadata": {},
     "output_type": "execute_result"
    }
   ],
   "source": [
    "recommended_movie_ids = recommendations.head(10).index\n",
    "recommended_movie_ids"
   ]
  },
  {
   "cell_type": "code",
   "execution_count": null,
   "id": "9a6c00d6",
   "metadata": {},
   "outputs": [],
   "source": [
    "relevant_items"
   ]
  },
  {
   "cell_type": "code",
   "execution_count": null,
   "id": "6279fdd6",
   "metadata": {},
   "outputs": [],
   "source": []
  },
  {
   "cell_type": "code",
   "execution_count": null,
   "id": "d35964c8",
   "metadata": {},
   "outputs": [],
   "source": []
  },
  {
   "cell_type": "code",
   "execution_count": 35,
   "id": "8bddb31f",
   "metadata": {},
   "outputs": [
    {
     "data": {
      "text/plain": [
       "array([[4.000e+00, 6.974e+03],\n",
       "       [5.000e+00, 6.974e+03],\n",
       "       [5.000e+00, 6.974e+03],\n",
       "       ...,\n",
       "       [5.000e+00, 6.974e+03],\n",
       "       [4.000e+00, 6.974e+03],\n",
       "       [5.000e+00, 6.974e+03]])"
      ]
     },
     "execution_count": 35,
     "metadata": {},
     "output_type": "execute_result"
    }
   ],
   "source": [
    "x = r[[\"rating\",\"movieid\"]].values\n",
    "x"
   ]
  },
  {
   "cell_type": "code",
   "execution_count": 36,
   "id": "76e8889d",
   "metadata": {},
   "outputs": [
    {
     "data": {
      "text/plain": [
       "array([2407893, 1673319,     602, ..., 1208146,  873100, 2221430],\n",
       "      dtype=int64)"
      ]
     },
     "execution_count": 36,
     "metadata": {},
     "output_type": "execute_result"
    }
   ],
   "source": [
    "y = r[\"customerid\"].values\n",
    "y"
   ]
  },
  {
   "cell_type": "code",
   "execution_count": 37,
   "id": "6d3831f6",
   "metadata": {},
   "outputs": [],
   "source": [
    "x_train, x_test, y_train, y_test = train_test_split(x,y, test_size = 0.1, random_state = 42)"
   ]
  },
  {
   "cell_type": "code",
   "execution_count": 38,
   "id": "b9fd7b2f",
   "metadata": {},
   "outputs": [],
   "source": [
    "sc = StandardScaler()"
   ]
  },
  {
   "cell_type": "code",
   "execution_count": 39,
   "id": "e651f8db",
   "metadata": {},
   "outputs": [],
   "source": [
    "x_train = sc.fit_transform(x_train)\n",
    "x_test = sc.fit_transform(x_test)\n"
   ]
  },
  {
   "cell_type": "code",
   "execution_count": 40,
   "id": "87efe68b",
   "metadata": {},
   "outputs": [],
   "source": [
    "KNN = KNeighborsClassifier()"
   ]
  },
  {
   "cell_type": "code",
   "execution_count": 41,
   "id": "7e0958f1",
   "metadata": {},
   "outputs": [
    {
     "data": {
      "text/plain": [
       "KNeighborsClassifier()"
      ]
     },
     "execution_count": 41,
     "metadata": {},
     "output_type": "execute_result"
    }
   ],
   "source": [
    "KNN.fit(x_train, y_train)"
   ]
  },
  {
   "cell_type": "code",
   "execution_count": null,
   "id": "9084a21e",
   "metadata": {},
   "outputs": [],
   "source": [
    "pred_y = KNN.predict(x_test)"
   ]
  },
  {
   "cell_type": "code",
   "execution_count": null,
   "id": "a60abcc6",
   "metadata": {},
   "outputs": [],
   "source": [
    "pred_y"
   ]
  },
  {
   "cell_type": "code",
   "execution_count": null,
   "id": "9bbeefa3",
   "metadata": {},
   "outputs": [],
   "source": [
    "y_test"
   ]
  },
  {
   "cell_type": "code",
   "execution_count": null,
   "id": "f5d1a7a7",
   "metadata": {},
   "outputs": [],
   "source": [
    "accuracy_score(y_test, pred_y)"
   ]
  },
  {
   "cell_type": "code",
   "execution_count": null,
   "id": "774df36f",
   "metadata": {},
   "outputs": [],
   "source": []
  },
  {
   "cell_type": "code",
   "execution_count": 12,
   "id": "34374d37",
   "metadata": {},
   "outputs": [],
   "source": [
    "# collect the movie ids for later\n",
    "\n",
    "# for calculating recommendations\n",
    "liked_items = [11283,550,4306,1905,14691,14410,9016,5657,14021,761,11819]\n",
    "# for testing the recommender after getting some recommendations\n",
    "relevant_items = []"
   ]
  },
  {
   "cell_type": "markdown",
   "id": "ce47425d",
   "metadata": {},
   "source": [
    "### Deciding a Machine learning technique\n",
    "#### Neighborhood-based Collaborative Filtering( Nearest Neighbors)\n",
    "#### Neighborhood Components Analysis\n",
    "#### nearest neighbors classifier"
   ]
  },
  {
   "cell_type": "code",
   "execution_count": null,
   "id": "37cea34f",
   "metadata": {},
   "outputs": [],
   "source": [
    "# which metrics can we use\n",
    "sorted(sklearn.neighbors.VALID_METRICS_SPARSE['brute'])"
   ]
  },
  {
   "cell_type": "code",
   "execution_count": null,
   "id": "5b8b1f40",
   "metadata": {},
   "outputs": [],
   "source": [
    "# initialize the unsupervised model\n",
    "model = NearestNeighbors(metric='cosine')\n"
   ]
  },
  {
   "cell_type": "code",
   "execution_count": null,
   "id": "3bf3c0fd",
   "metadata": {},
   "outputs": [],
   "source": [
    "# fit it to the user-item matrix\n",
    "model.fit(user)"
   ]
  },
  {
   "cell_type": "code",
   "execution_count": null,
   "id": "c35a3eba",
   "metadata": {},
   "outputs": [],
   "source": [
    "# top-10 most similar users for the user with the id 1 (id1 is included in the neighborhood!)\n",
    "model.kneighbors(user[1,:], n_neighbors=20)"
   ]
  },
  {
   "cell_type": "code",
   "execution_count": null,
   "id": "99727620",
   "metadata": {},
   "outputs": [],
   "source": [
    "user[1,:].shape"
   ]
  },
  {
   "cell_type": "code",
   "execution_count": null,
   "id": "13508428",
   "metadata": {},
   "outputs": [],
   "source": [
    "# new user vector\n",
    "user_vec = np.repeat(0, 17770)\n",
    "user_vec.shape\n",
    "\n",
    "# fill in some ratings\n",
    "user_vec[liked_items] = 5\n",
    "user_vec.shape"
   ]
  },
  {
   "cell_type": "code",
   "execution_count": null,
   "id": "7ff1e771",
   "metadata": {},
   "outputs": [],
   "source": [
    "# find the neighborhood\n",
    "distances, user_ids = model.kneighbors([user_vec], n_neighbors=10)"
   ]
  },
  {
   "cell_type": "code",
   "execution_count": null,
   "id": "bfae0b6b",
   "metadata": {},
   "outputs": [],
   "source": [
    "user_ids"
   ]
  },
  {
   "cell_type": "code",
   "execution_count": null,
   "id": "47512e24",
   "metadata": {},
   "outputs": [],
   "source": [
    "# find the ratings for the neighbors\n",
    "neighborhood = ratings.set_index('customerid').loc[user_ids[0]]\n",
    "neighborhood"
   ]
  },
  {
   "cell_type": "code",
   "execution_count": null,
   "id": "2799eeb2",
   "metadata": {},
   "outputs": [],
   "source": [
    "recommendations = neighborhood.groupby('movieid')['rating'].sum().sort_values(ascending=False)\n",
    "recommendations"
   ]
  },
  {
   "cell_type": "code",
   "execution_count": null,
   "id": "0d935aea",
   "metadata": {},
   "outputs": [],
   "source": [
    "liked_items"
   ]
  },
  {
   "cell_type": "code",
   "execution_count": null,
   "id": "f2e2158e",
   "metadata": {},
   "outputs": [],
   "source": [
    "# filter out movies that the user allready watched\n",
    "item_filter = ~recommendations.index.isin(liked_items)\n",
    "recommendations = recommendations.loc[item_filter]"
   ]
  },
  {
   "cell_type": "code",
   "execution_count": null,
   "id": "49eba5a9",
   "metadata": {},
   "outputs": [],
   "source": [
    "# top 10 recommendations\n",
    "movies.loc[recommendations.head(10).index]"
   ]
  },
  {
   "cell_type": "code",
   "execution_count": null,
   "id": "3c5a03b4",
   "metadata": {},
   "outputs": [],
   "source": [
    "recommended_movie_ids = recommendations.head(10).index\n",
    "recommended_movie_ids"
   ]
  },
  {
   "cell_type": "code",
   "execution_count": null,
   "id": "c599af3d",
   "metadata": {},
   "outputs": [],
   "source": [
    "relevant_items"
   ]
  },
  {
   "cell_type": "code",
   "execution_count": null,
   "id": "c8de4d33",
   "metadata": {},
   "outputs": [],
   "source": []
  },
  {
   "cell_type": "code",
   "execution_count": null,
   "id": "ff573d31",
   "metadata": {},
   "outputs": [],
   "source": []
  },
  {
   "cell_type": "code",
   "execution_count": null,
   "id": "3dfa7364",
   "metadata": {},
   "outputs": [],
   "source": []
  },
  {
   "cell_type": "code",
   "execution_count": null,
   "id": "2ca847cd",
   "metadata": {},
   "outputs": [],
   "source": []
  },
  {
   "cell_type": "code",
   "execution_count": null,
   "id": "0f5dfad9",
   "metadata": {},
   "outputs": [],
   "source": []
  },
  {
   "cell_type": "code",
   "execution_count": null,
   "id": "746c8495",
   "metadata": {},
   "outputs": [],
   "source": []
  },
  {
   "cell_type": "code",
   "execution_count": null,
   "id": "5f5e05b9",
   "metadata": {},
   "outputs": [],
   "source": []
  },
  {
   "cell_type": "code",
   "execution_count": null,
   "id": "c062394c",
   "metadata": {},
   "outputs": [],
   "source": []
  },
  {
   "cell_type": "code",
   "execution_count": null,
   "id": "76c70ddb",
   "metadata": {},
   "outputs": [],
   "source": []
  },
  {
   "cell_type": "code",
   "execution_count": null,
   "id": "3b184df7",
   "metadata": {},
   "outputs": [],
   "source": []
  },
  {
   "cell_type": "code",
   "execution_count": null,
   "id": "c29dea3f",
   "metadata": {},
   "outputs": [],
   "source": []
  },
  {
   "cell_type": "code",
   "execution_count": null,
   "id": "2297bdea",
   "metadata": {},
   "outputs": [],
   "source": []
  },
  {
   "cell_type": "markdown",
   "id": "78ef10c8",
   "metadata": {},
   "source": [
    "#### Test the algorithm"
   ]
  },
  {
   "cell_type": "markdown",
   "id": "1003155c",
   "metadata": {},
   "source": [
    "#### maybe create some visualisations to check the data distribution "
   ]
  },
  {
   "cell_type": "markdown",
   "id": "03c01d71",
   "metadata": {},
   "source": [
    "#### Add ratings in Qualify dataset and compare with probe to check the accuracy"
   ]
  },
  {
   "cell_type": "markdown",
   "id": "d73a5098",
   "metadata": {},
   "source": [
    "#### Create a Predictor system which takes 3 inputs from user and provides list of related movies "
   ]
  },
  {
   "cell_type": "markdown",
   "id": "1ed2f5b9",
   "metadata": {},
   "source": [
    "### Create a GUI using Streamlit"
   ]
  },
  {
   "cell_type": "code",
   "execution_count": null,
   "id": "84ee6d9a",
   "metadata": {},
   "outputs": [],
   "source": []
  }
 ],
 "metadata": {
  "kernelspec": {
   "display_name": "Python 3 (ipykernel)",
   "language": "python",
   "name": "python3"
  },
  "language_info": {
   "codemirror_mode": {
    "name": "ipython",
    "version": 3
   },
   "file_extension": ".py",
   "mimetype": "text/x-python",
   "name": "python",
   "nbconvert_exporter": "python",
   "pygments_lexer": "ipython3",
   "version": "3.9.12"
  },
  "vscode": {
   "interpreter": {
    "hash": "e8899eb02dfbc033aab5733bdae1bd213fa031d40331094008e8673d99ebab63"
   }
  }
 },
 "nbformat": 4,
 "nbformat_minor": 5
}
